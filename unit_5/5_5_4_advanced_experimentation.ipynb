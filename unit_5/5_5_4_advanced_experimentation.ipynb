{
 "cells": [
  {
   "cell_type": "markdown",
   "metadata": {},
   "source": [
    "# 5.5.3 [Challenge: What Test to Use](https://courses.thinkful.com/data-201v1/project/5.5.4)\n",
    "\n",
    "\n",
    "Using selected questions from the 2012 and 2014 editions of the European Social Survey, address the following questions. Keep track of your code and results in a Jupyter notebook or other source that you can share with your mentor. For each question, explain why you chose the approach you did.\n",
    "\n",
    "Here is the data [file](https://raw.githubusercontent.com/Thinkful-Ed/data-201-resources/master/ESS_practice_data/ESSdata_Thinkful.csv)\n",
    "\n",
    "Here is the [codebook](https://thinkful-ed.github.io/data-201-resources/ESS_practice_data/ESS_codebook.html)\n",
    "\n",
    "In this dataset, the same participants answered questions in 2012 and again 2014.\n",
    "\n",
    "1. [Did people become less trusting from 2012 to 2014? Compute results for each country in the sample.](#section1) (ppltrst, cntry, 6=2012, 7=2014, 0-10)\n",
    "2. [Did people become happier from 2012 to 2014? Compute results for each country in the sample.](#section2) (happy, cntry, 0-10)\n",
    "3. [Who reported watching more TV in 2012, men or women?](#section3) (gndr (1 male, 2 female), 0-7) \n",
    "4. [Who was more likely to believe people were fair in 2012, people living with a partner or people living alone?](#section4) (pplfair, partner (1 yes, 2 no))\n",
    "5. [Pick three or four of the countries in the sample and compare how often people met socially in 2014. Are there differences, and if so, which countries stand out?](#section5) (sclmeet (1=never, 7=daily))\n",
    "6. [Pick three or four of the countries in the sample and compare how often people took part in social activities, relative to others their age, in 2014. Are there differences, and if so, which countries stand out?](#section6)(sclat 1 = much less than most, 5 = much more than most)"
   ]
  },
  {
   "cell_type": "code",
   "execution_count": 3,
   "metadata": {},
   "outputs": [],
   "source": [
    "import pandas as pd\n",
    "import numpy as np\n",
    "import matplotlib.pyplot as plt\n",
    "import scipy.stats as stats\n",
    "import seaborn as sns\n",
    "from statsmodels.stats.multicomp import pairwise_tukeyhsd\n",
    "\n",
    "%matplotlib inline"
   ]
  },
  {
   "cell_type": "code",
   "execution_count": 38,
   "metadata": {},
   "outputs": [],
   "source": [
    "# Import Data\n",
    "survey = pd.DataFrame(pd.read_csv('https://raw.githubusercontent.com/Thinkful-Ed/data-201-resources/master/ESS_practice_data/ESSdata_Thinkful.csv'))\n",
    "\n",
    "# Narrow to the variables needed \n",
    "survey = survey[['idno','year', 'gndr', 'cntry', 'partner', 'ppltrst',\n",
    "                 'happy', 'pplfair', 'tvtot', 'sclmeet', 'sclact']]\n",
    "\n",
    "# Rename gndr  (1 male, 2 female), partner (1 yes, 2 no to partner 1 yes, 0 no), year (6=2012, 7=2014)\n",
    "survey['gndr'] = np.where(survey['gndr']==1, 'male', 'female')\n",
    "survey['partner'] = np.where(survey['partner']==1, 1, 0)\n",
    "survey['year'] = np.where(survey['year']==6, 'year_2012', 'year_2014')\n"
   ]
  },
  {
   "cell_type": "markdown",
   "metadata": {},
   "source": [
    "Some of the coding from the dataset is a tad confusing so I'm going to clean that up:\n",
    "* gndr (1 male, 2 female) to gndr male, female\n",
    "* partner (1 yes, 2 no) to partner (1 yes, 0 no)\n",
    "* year (6=2012, 7=2014) to (2012, 2014)"
   ]
  },
  {
   "cell_type": "markdown",
   "metadata": {},
   "source": [
    "_____\n",
    "<a id='section1'></a>"
   ]
  },
  {
   "cell_type": "markdown",
   "metadata": {},
   "source": [
    "### 1. Did people become less trusting from 2012 to 2014? Compute results for each country in the sample.\n",
    "    * First visually check to see if the distribution for ppltrst looks recognizable"
   ]
  },
  {
   "cell_type": "code",
   "execution_count": 148,
   "metadata": {},
   "outputs": [],
   "source": [
    "# Since this test is the same people in 2012 and 2014 it will help me to organize in a pivot table\n",
    "df_trust = pd.pivot_table(data=survey,\n",
    "                          index=['cntry','idno'],\n",
    "                          values='ppltrst',\n",
    "                          columns='year').reset_index(drop=False).dropna()"
   ]
  },
  {
   "cell_type": "code",
   "execution_count": 157,
   "metadata": {
    "scrolled": false
   },
   "outputs": [
    {
     "data": {
      "image/png": "[encoded data removed]",
      "text/plain": [
       "<Figure size 432x288 with 1 Axes>"
      ]
     },
     "metadata": {},
     "output_type": "display_data"
    },
    {
     "name": "stdout",
     "output_type": "stream",
     "text": [
      "Field: year_2012 \n",
      "W: 0.952\n",
      "p-value: 0.000\n",
      "\n",
      "Field: year_2014 \n",
      "W: 0.954\n",
      "p-value: 0.000\n",
      "\n"
     ]
    },
    {
     "data": {
      "image/png": "[encoded data removed]",
      "text/plain": [
       "<Figure size 432x288 with 1 Axes>"
      ]
     },
     "metadata": {},
     "output_type": "display_data"
    },
    {
     "name": "stdout",
     "output_type": "stream",
     "text": [
      "Field: year_2012 \n",
      "W: 0.967\n",
      "p-value: 0.000\n",
      "\n",
      "Field: year_2014 \n",
      "W: 0.972\n",
      "p-value: 0.000\n",
      "\n"
     ]
    },
    {
     "data": {
      "image/png": "[encoded data removed]",
      "text/plain": [
       "<Figure size 432x288 with 1 Axes>"
      ]
     },
     "metadata": {},
     "output_type": "display_data"
    },
    {
     "name": "stdout",
     "output_type": "stream",
     "text": [
      "Field: year_2012 \n",
      "W: 0.901\n",
      "p-value: 0.118\n",
      "\n",
      "Field: year_2014 \n",
      "W: 0.943\n",
      "p-value: 0.452\n",
      "\n"
     ]
    },
    {
     "data": {
      "image/png": "[encoded data removed]",
      "text/plain": [
       "<Figure size 432x288 with 1 Axes>"
      ]
     },
     "metadata": {},
     "output_type": "display_data"
    },
    {
     "name": "stdout",
     "output_type": "stream",
     "text": [
      "Field: year_2012 \n",
      "W: 0.950\n",
      "p-value: 0.000\n",
      "\n",
      "Field: year_2014 \n",
      "W: 0.966\n",
      "p-value: 0.000\n",
      "\n"
     ]
    },
    {
     "data": {
      "image/png": "[encoded data removed]",
      "text/plain": [
       "<Figure size 432x288 with 1 Axes>"
      ]
     },
     "metadata": {},
     "output_type": "display_data"
    },
    {
     "name": "stdout",
     "output_type": "stream",
     "text": [
      "Field: year_2012 \n",
      "W: 0.922\n",
      "p-value: 0.000\n",
      "\n",
      "Field: year_2014 \n",
      "W: 0.929\n",
      "p-value: 0.000\n",
      "\n"
     ]
    },
    {
     "data": {
      "image/png": "[encoded data removed]",
      "text/plain": [
       "<Figure size 432x288 with 1 Axes>"
      ]
     },
     "metadata": {},
     "output_type": "display_data"
    },
    {
     "name": "stdout",
     "output_type": "stream",
     "text": [
      "Field: year_2012 \n",
      "W: 0.936\n",
      "p-value: 0.000\n",
      "\n",
      "Field: year_2014 \n",
      "W: 0.940\n",
      "p-value: 0.000\n",
      "\n"
     ]
    }
   ],
   "source": [
    "# Create a loop that filters year_2012 & year 2014 by country\n",
    "def plot_hist(x, y, data, country):\n",
    "    subset = data[data['cntry']==country]\n",
    "    plt.hist(subset[x], label=x, alpha=0.5, bins=10)\n",
    "    plt.hist(subset[y], label=y, alpha=0.5, bins=10)\n",
    "    plt.legend(loc='upper left')\n",
    "    plt.xlim(0,10)\n",
    "    plt.title(country)\n",
    "    plt.show()\n",
    "    print('Field: %s \\nW: %.3f\\np-value: %.3f\\n'%(x,\n",
    "          stats.shapiro(subset[x].dropna())[0],\n",
    "          stats.shapiro(subset[x].dropna())[1]))\n",
    "    print('Field: %s \\nW: %.3f\\np-value: %.3f\\n'%(y,\n",
    "          stats.shapiro(subset[y].dropna())[0],\n",
    "          stats.shapiro(subset[y].dropna())[1]))\n",
    "\n",
    "\n",
    "for country in df_trust.cntry.unique():\n",
    "    plot_hist('year_2012', 'year_2014', df_trust, country)"
   ]
  },
  {
   "cell_type": "markdown",
   "metadata": {},
   "source": [
    "While the p-values aren't great, the W's are all pretty close to 1 regardless of year or country. \n",
    "Seems safe to call these normal. This will need to be a dependant test since the same participants are being asked to rate their trust in others each year."
   ]
  },
  {
   "cell_type": "code",
   "execution_count": 154,
   "metadata": {},
   "outputs": [
    {
     "name": "stdout",
     "output_type": "stream",
     "text": [
      "\n",
      "Country: CH\n",
      "Ttest_relResult(statistic=-0.6586851756725737, pvalue=0.5102943511301135)\n",
      "Mean Change: 0.074\n",
      "\n",
      "Country: CZ\n",
      "Ttest_relResult(statistic=-0.5001638336887216, pvalue=0.6171292682404208)\n",
      "Mean Change: 0.068\n",
      "\n",
      "Country: DE\n",
      "Ttest_relResult(statistic=-0.18399501804849683, pvalue=0.8568563797095805)\n",
      "Mean Change: 0.143\n",
      "\n",
      "Country: ES\n",
      "Ttest_relResult(statistic=2.4561906976601646, pvalue=0.014181580725321856)\n",
      "Mean Change: -0.217\n",
      "\n",
      "Country: NO\n",
      "Ttest_relResult(statistic=0.5073077081124404, pvalue=0.6120925701518767)\n",
      "Mean Change: -0.048\n",
      "\n",
      "Country: SE\n",
      "Ttest_relResult(statistic=-2.0671082026033982, pvalue=0.0390078167095776)\n",
      "Mean Change: 0.199\n"
     ]
    }
   ],
   "source": [
    "# Create a loop that filters year_2012 & year 2014 by country\n",
    "def country_ttest_rel(x, y, data, country):\n",
    "    subset = data[data['cntry']==country]\n",
    "    x = np.array(subset[x])\n",
    "    y = np.array(subset[y])\n",
    "    mean_change = y.mean()-x.mean()\n",
    "    print('\\nCountry: {}'.format(country))\n",
    "    print(stats.ttest_rel(x, y, nan_policy='omit'))\n",
    "    print('Mean Change: %.3f'%mean_change)\n",
    "\n",
    "for country in df_trust.cntry.unique():\n",
    "    country_ttest_rel('year_2012', 'year_2014', df_trust, country)"
   ]
  },
  {
   "cell_type": "markdown",
   "metadata": {},
   "source": [
    "Spain and Sweden do have p-values < 0.05. Lets see if this was in increase or decrease.\n",
    "\n",
    "Looks like happiness in Spain(ES) went down while Sweden (SE) went up."
   ]
  },
  {
   "cell_type": "markdown",
   "metadata": {},
   "source": [
    "_____\n",
    "<a id='section2'></a>"
   ]
  },
  {
   "cell_type": "markdown",
   "metadata": {},
   "source": [
    "### 2. Did people become happier from 2012 to 2014? Compute results for each country in the sample.\n",
    "    * happy, cntry, 0-10"
   ]
  },
  {
   "cell_type": "markdown",
   "metadata": {},
   "source": [
    "The approach for this question will be similar to the last, starting by identifying if the data is normally distributed visually and with the Shapiro-Wilk test."
   ]
  },
  {
   "cell_type": "code",
   "execution_count": 145,
   "metadata": {},
   "outputs": [],
   "source": [
    "# Remove happy nulls\n",
    "df_happy = pd.pivot_table(data=survey,\n",
    "                          index=['cntry','idno'],\n",
    "                          values='happy',\n",
    "                          columns='year').reset_index(drop=False).dropna()"
   ]
  },
  {
   "cell_type": "code",
   "execution_count": 158,
   "metadata": {
    "scrolled": false
   },
   "outputs": [
    {
     "data": {
      "image/png": "[encoded data removed]",
      "text/plain": [
       "<Figure size 432x288 with 1 Axes>"
      ]
     },
     "metadata": {},
     "output_type": "display_data"
    },
    {
     "name": "stdout",
     "output_type": "stream",
     "text": [
      "Field: year_2012 \n",
      "W: 0.879\n",
      "p-value: 0.000\n",
      "\n",
      "Field: year_2014 \n",
      "W: 0.890\n",
      "p-value: 0.000\n",
      "\n"
     ]
    },
    {
     "data": {
      "image/png": "[encoded data removed]",
      "text/plain": [
       "<Figure size 432x288 with 1 Axes>"
      ]
     },
     "metadata": {},
     "output_type": "display_data"
    },
    {
     "name": "stdout",
     "output_type": "stream",
     "text": [
      "Field: year_2012 \n",
      "W: 0.949\n",
      "p-value: 0.000\n",
      "\n",
      "Field: year_2014 \n",
      "W: 0.941\n",
      "p-value: 0.000\n",
      "\n"
     ]
    },
    {
     "data": {
      "image/png": "[encoded data removed]",
      "text/plain": [
       "<Figure size 432x288 with 1 Axes>"
      ]
     },
     "metadata": {},
     "output_type": "display_data"
    },
    {
     "name": "stdout",
     "output_type": "stream",
     "text": [
      "Field: year_2012 \n",
      "W: 0.917\n",
      "p-value: 0.199\n",
      "\n",
      "Field: year_2014 \n",
      "W: 0.921\n",
      "p-value: 0.230\n",
      "\n"
     ]
    },
    {
     "data": {
      "image/png": "[encoded data removed]",
      "text/plain": [
       "<Figure size 432x288 with 1 Axes>"
      ]
     },
     "metadata": {},
     "output_type": "display_data"
    },
    {
     "name": "stdout",
     "output_type": "stream",
     "text": [
      "Field: year_2012 \n",
      "W: 0.903\n",
      "p-value: 0.000\n",
      "\n",
      "Field: year_2014 \n",
      "W: 0.910\n",
      "p-value: 0.000\n",
      "\n"
     ]
    },
    {
     "data": {
      "image/png": "[encoded data removed]",
      "text/plain": [
       "<Figure size 432x288 with 1 Axes>"
      ]
     },
     "metadata": {},
     "output_type": "display_data"
    },
    {
     "name": "stdout",
     "output_type": "stream",
     "text": [
      "Field: year_2012 \n",
      "W: 0.851\n",
      "p-value: 0.000\n",
      "\n",
      "Field: year_2014 \n",
      "W: 0.880\n",
      "p-value: 0.000\n",
      "\n"
     ]
    },
    {
     "data": {
      "image/png": "[encoded data removed]",
      "text/plain": [
       "<Figure size 432x288 with 1 Axes>"
      ]
     },
     "metadata": {},
     "output_type": "display_data"
    },
    {
     "name": "stdout",
     "output_type": "stream",
     "text": [
      "Field: year_2012 \n",
      "W: 0.904\n",
      "p-value: 0.000\n",
      "\n",
      "Field: year_2014 \n",
      "W: 0.912\n",
      "p-value: 0.000\n",
      "\n"
     ]
    }
   ],
   "source": [
    "# Create a loop that filters year_2012 & year 2014 by country\n",
    "for country in df_happy.cntry.unique():\n",
    "    plot_hist('year_2012', 'year_2014', df_happy, country)"
   ]
  },
  {
   "cell_type": "code",
   "execution_count": 156,
   "metadata": {},
   "outputs": [
    {
     "name": "stdout",
     "output_type": "stream",
     "text": [
      "\n",
      "Country: CH\n",
      "Ttest_relResult(statistic=-0.319412957862232, pvalue=0.7495001355428359)\n",
      "Mean Change: 0.023\n",
      "\n",
      "Country: CZ\n",
      "Ttest_relResult(statistic=-1.4561384833039597, pvalue=0.14584548433894534)\n",
      "Mean Change: 0.162\n",
      "\n",
      "Country: DE\n",
      "Ttest_relResult(statistic=-0.8062257748298549, pvalue=0.4346138707734991)\n",
      "Mean Change: 0.429\n",
      "\n",
      "Country: ES\n",
      "Ttest_relResult(statistic=1.613832417735418, pvalue=0.1068245155648069)\n",
      "Mean Change: -0.127\n",
      "\n",
      "Country: NO\n",
      "Ttest_relResult(statistic=4.2856826576235925, pvalue=2.0674530134057013e-05)\n",
      "Mean Change: -0.340\n",
      "\n",
      "Country: SE\n",
      "Ttest_relResult(statistic=-0.5581637086030012, pvalue=0.5768709591234161)\n",
      "Mean Change: 0.039\n"
     ]
    }
   ],
   "source": [
    "for country in df_happy.cntry.unique():\n",
    "    country_ttest_rel('year_2012', 'year_2014', df_happy, country)"
   ]
  },
  {
   "cell_type": "markdown",
   "metadata": {},
   "source": [
    "Norway seems to be the only country with a significant change in reported happiness and it unfortunately was a decline."
   ]
  },
  {
   "cell_type": "markdown",
   "metadata": {},
   "source": [
    "_____\n",
    "<a id='section3'></a>"
   ]
  },
  {
   "cell_type": "markdown",
   "metadata": {},
   "source": [
    "### 3. Who reported watching more TV in 2012, men or women?\n",
    " * gndr (1 male, 2 female), tvtot: 0-7"
   ]
  },
  {
   "cell_type": "code",
   "execution_count": 162,
   "metadata": {},
   "outputs": [],
   "source": [
    "df_tv = survey[survey['year']=='year_2012'][['gndr','tvtot']]"
   ]
  },
  {
   "cell_type": "code",
   "execution_count": 163,
   "metadata": {},
   "outputs": [
    {
     "data": {
      "text/plain": [
       "array(['female', 'male'], dtype=object)"
      ]
     },
     "execution_count": 163,
     "metadata": {},
     "output_type": "execute_result"
    }
   ],
   "source": [
    "df_tv.gndr.unique()"
   ]
  },
  {
   "cell_type": "code",
   "execution_count": 177,
   "metadata": {},
   "outputs": [
    {
     "data": {
      "image/png": "[encoded data removed]",
      "text/plain": [
       "<Figure size 432x288 with 1 Axes>"
      ]
     },
     "metadata": {},
     "output_type": "display_data"
    },
    {
     "name": "stdout",
     "output_type": "stream",
     "text": [
      "Field: Shapiro female \n",
      "W: 0.939\n",
      "p-value: 0.000\n",
      "\n",
      "Field: Shapiro male \n",
      "W: 0.943\n",
      "p-value: 0.000\n",
      "\n",
      "Whitney: \n",
      "Stat: 2271081.500\n",
      "p-value: 0.224\n",
      "\n",
      "Kruskal: \n",
      "Stat: 0.577\n",
      "p-value: 0.448\n",
      "\n",
      "Ttest_indResult(statistic=0.6899928109209502, pvalue=0.4902360402696986)\n"
     ]
    }
   ],
   "source": [
    "def print_my_stuff(data):\n",
    "    subset_female = df_tv[df_tv['gndr']=='female']['tvtot'].dropna()\n",
    "    subset_male = df_tv[df_tv['gndr']=='male']['tvtot'].dropna()\n",
    "    plt.hist(subset_female, alpha=0.5, label='female')\n",
    "    plt.hist(subset_male, alpha=0.5, label='male')\n",
    "    plt.legend(loc='upper left')\n",
    "    plt.xlim(0,7)\n",
    "    plt.show()\n",
    "    print('Field: Shapiro %s \\nW: %.3f\\np-value: %.3f\\n'%('female',\n",
    "          stats.shapiro(subset_female.dropna())[0],\n",
    "          stats.shapiro(subset_female.dropna())[1]))\n",
    "    print('Field: Shapiro %s \\nW: %.3f\\np-value: %.3f\\n'%('male',\n",
    "          stats.shapiro(subset_male.dropna())[0],\n",
    "          stats.shapiro(subset_male.dropna())[1]))\n",
    "    print('Whitney: \\nStat: %.3f\\np-value: %.3f\\n'%(\n",
    "          stats.mannwhitneyu(subset_female,subset_male)[0],\n",
    "          stats.mannwhitneyu(subset_female,subset_male)[1]))\n",
    "    print('Kruskal: \\nStat: %.3f\\np-value: %.3f\\n'%(\n",
    "          stats.kruskal(subset_female,subset_male, non_policy='omit')[0],\n",
    "          stats.kruskal(subset_female, subset_male, non_policy='omit')[1]))\n",
    "    print(stats.ttest_ind(subset_female, subset_male))\n",
    "    \n",
    "print_my_stuff(df_tv)"
   ]
  },
  {
   "cell_type": "markdown",
   "metadata": {},
   "source": [
    "This data seems not normal. In any regard using independant tests for parametric and non-parametric tests teh p-values are not significant"
   ]
  },
  {
   "cell_type": "markdown",
   "metadata": {},
   "source": [
    "_____\n",
    "<a id='section4'></a>"
   ]
  },
  {
   "cell_type": "markdown",
   "metadata": {},
   "source": [
    "### 4. Who was more likely to believe people were fair in 2012, people living with a partner or people living alone?\n",
    "* pplfair, partner (1 yes, 2 no)"
   ]
  },
  {
   "cell_type": "code",
   "execution_count": 186,
   "metadata": {
    "scrolled": false
   },
   "outputs": [
    {
     "data": {
      "image/png": "[encoded data removed]",
      "text/plain": [
       "<Figure size 432x288 with 1 Axes>"
      ]
     },
     "metadata": {},
     "output_type": "display_data"
    },
    {
     "name": "stdout",
     "output_type": "stream",
     "text": [
      "Field: Shapiro Partner \n",
      "W: 0.941\n",
      "p-value: 0.000\n",
      "\n",
      "Field: Shapiro No Partner \n",
      "W: 0.956\n",
      "p-value: 0.000\n",
      "\n",
      "Whitney: \n",
      "Stat: 2007958.000\n",
      "p-value: 0.000\n",
      "\n",
      "Kruskal: \n",
      "Stat: 13.339\n",
      "p-value: 0.000\n",
      "\n",
      "Ttest_indResult(statistic=3.26130105535529, pvalue=0.0011177228416224864)\n",
      "\n",
      "Mean Partner: 6.081 \n",
      "Mean Alone: 5.861 \n",
      "Difference: 0.220\n"
     ]
    }
   ],
   "source": [
    "df_partner = survey[survey['year']=='year_2012'][['partner','pplfair']]\n",
    "\n",
    "def print_my_stuff(data, field):\n",
    "    subset_1 = data[data['partner']==1][field].dropna()\n",
    "    subset_0 = data[data['partner']==0][field].dropna()\n",
    "    mean_1 = subset_1.mean()\n",
    "    mean_0 = subset_0.mean()\n",
    "    plt.hist(subset_1, alpha=0.5, label='partner')\n",
    "    plt.hist(subset_0, alpha=0.5, label='no_partner')\n",
    "    plt.legend(loc='upper left')\n",
    "    plt.xlim(0,10)\n",
    "    plt.show()\n",
    "    print('Field: Shapiro %s \\nW: %.3f\\np-value: %.3f\\n'%('Partner',\n",
    "          stats.shapiro(subset_1.dropna())[0],\n",
    "          stats.shapiro(subset_1.dropna())[1]))\n",
    "    print('Field: Shapiro %s \\nW: %.3f\\np-value: %.3f\\n'%('No Partner',\n",
    "          stats.shapiro(subset_0.dropna())[0],\n",
    "          stats.shapiro(subset_0.dropna())[1]))\n",
    "    print('Whitney: \\nStat: %.3f\\np-value: %.3f\\n'%(\n",
    "          stats.mannwhitneyu(subset_1,subset_0)[0],\n",
    "          stats.mannwhitneyu(subset_1,subset_0)[1]))\n",
    "    print('Kruskal: \\nStat: %.3f\\np-value: %.3f\\n'%(\n",
    "          stats.kruskal(subset_1,subset_0, non_policy='omit')[0],\n",
    "          stats.kruskal(subset_1, subset_0, non_policy='omit')[1]))\n",
    "    print(stats.ttest_ind(subset_1, subset_0))\n",
    "    print('\\nMean Partner: %.3f \\nMean Alone: %.3f \\nDifference: %.3f'%(mean_1, mean_0, (mean_1-mean_0)))\n",
    "    \n",
    "print_my_stuff(df_partner, 'pplfair')"
   ]
  },
  {
   "cell_type": "markdown",
   "metadata": {},
   "source": [
    "Depressingly it looks like people who live alone are less trusting of others..."
   ]
  },
  {
   "cell_type": "markdown",
   "metadata": {},
   "source": [
    "_____\n",
    "<a id='section5'></a>"
   ]
  },
  {
   "cell_type": "markdown",
   "metadata": {},
   "source": [
    "### 5. Pick three or four of the countries in the sample and compare how often people met socially in 2014. Are there differences, and if so, which countries stand out?\n",
    "* sclmeet (1=never, 7=daily)"
   ]
  },
  {
   "cell_type": "markdown",
   "metadata": {},
   "source": [
    "Interesting, here is a question that will require ANOVA since we are testing multiple groups"
   ]
  },
  {
   "cell_type": "code",
   "execution_count": 194,
   "metadata": {},
   "outputs": [
    {
     "data": {
      "text/plain": [
       "cntry\n",
       "CH     772\n",
       "CZ     655\n",
       "DE      14\n",
       "ES    1211\n",
       "NO     731\n",
       "SE     908\n",
       "Name: sclmeet, dtype: int64"
      ]
     },
     "execution_count": 194,
     "metadata": {},
     "output_type": "execute_result"
    }
   ],
   "source": [
    "# Selecting the 3 countries with the largest sample to give me the best chance at accurate results\n",
    "survey[survey['year']=='year_2014'].groupby(by='cntry')['sclmeet'].count()"
   ]
  },
  {
   "cell_type": "code",
   "execution_count": 219,
   "metadata": {},
   "outputs": [],
   "source": [
    "# Going with Spain (ES), Sweden (SE), Switzerland (CH)\n",
    "subset = survey[(survey['cntry'].isin(['ES','SE', 'CH']))& (survey['year'] == 'year_2014')]\n",
    "subset = subset.dropna(subset=['sclmeet'])\n",
    "subset_meet = subset['sclmeet']"
   ]
  },
  {
   "cell_type": "code",
   "execution_count": 225,
   "metadata": {},
   "outputs": [
    {
     "data": {
      "image/png": "[encoded data removed]",
      "text/plain": [
       "<Figure size 432x288 with 1 Axes>"
      ]
     },
     "metadata": {},
     "output_type": "display_data"
    },
    {
     "name": "stdout",
     "output_type": "stream",
     "text": [
      "Field: Shapiro\n",
      "W: 0.894\n",
      "p-value: 0.000\n",
      "\n"
     ]
    }
   ],
   "source": [
    "plt.hist(subset_meet, bins=7)\n",
    "plt.show()\n",
    "print('Field: Shapiro\\nW: %.3f\\np-value: %.3f\\n'%(\n",
    "          stats.shapiro(subset_meet.dropna())[0],\n",
    "          stats.shapiro(subset_meet.dropna())[1]))\n"
   ]
  },
  {
   "cell_type": "code",
   "execution_count": 222,
   "metadata": {
    "scrolled": false
   },
   "outputs": [
    {
     "data": {
      "image/png": "[encoded data removed]",
      "text/plain": [
       "<Figure size 432x288 with 1 Axes>"
      ]
     },
     "metadata": {},
     "output_type": "display_data"
    },
    {
     "name": "stdout",
     "output_type": "stream",
     "text": [
      "Field: Shapiro CH \n",
      "W: 0.897\n",
      "p-value: 0.000\n",
      "\n"
     ]
    },
    {
     "data": {
      "image/png": "[encoded data removed]",
      "text/plain": [
       "<Figure size 432x288 with 1 Axes>"
      ]
     },
     "metadata": {},
     "output_type": "display_data"
    },
    {
     "name": "stdout",
     "output_type": "stream",
     "text": [
      "Field: Shapiro ES \n",
      "W: 0.888\n",
      "p-value: 0.000\n",
      "\n"
     ]
    },
    {
     "data": {
      "image/png": "[encoded data removed]",
      "text/plain": [
       "<Figure size 432x288 with 1 Axes>"
      ]
     },
     "metadata": {},
     "output_type": "display_data"
    },
    {
     "name": "stdout",
     "output_type": "stream",
     "text": [
      "Field: Shapiro SE \n",
      "W: 0.880\n",
      "p-value: 0.000\n",
      "\n"
     ]
    }
   ],
   "source": [
    "for country in subset.cntry.unique():\n",
    "    subset_sclmeet = subset[subset['cntry']==country]['sclmeet'].dropna()\n",
    "    plt.hist(subset_sclmeet, bins=7)\n",
    "    plt.title(country)\n",
    "    plt.xlim(1,7)\n",
    "    plt.show()\n",
    "    print('Field: Shapiro %s \\nW: %.3f\\np-value: %.3f\\n'%(country,\n",
    "          stats.shapiro(subset_sclmeet.dropna())[0],\n",
    "          stats.shapiro(subset_sclmeet.dropna())[1]))\n"
   ]
  },
  {
   "cell_type": "code",
   "execution_count": 247,
   "metadata": {},
   "outputs": [],
   "source": [
    "# Going with Spain (ES), Sweden (SE), Switzerland (CH)\n",
    "CH = subset[subset['cntry']=='CH']\n",
    "ES = subset[subset['cntry']=='ES'] \n",
    "SE = subset[subset['cntry']=='SE']\n",
    "CH_meet = CH['sclmeet']\n",
    "ES_meet = ES['sclmeet']\n",
    "SE_meet = SE['sclmeet']"
   ]
  },
  {
   "cell_type": "code",
   "execution_count": 231,
   "metadata": {},
   "outputs": [
    {
     "data": {
      "text/plain": [
       "F_onewayResult(statistic=7.8889073426891425, pvalue=0.00038301513884460325)"
      ]
     },
     "execution_count": 231,
     "metadata": {},
     "output_type": "execute_result"
    }
   ],
   "source": [
    "stats.f_oneway(CH_meet, ES_meet, SE_meet)"
   ]
  },
  {
   "cell_type": "code",
   "execution_count": 232,
   "metadata": {},
   "outputs": [
    {
     "data": {
      "text/plain": [
       "KruskalResult(statistic=20.974963481937596, pvalue=2.7883324361335602e-05)"
      ]
     },
     "execution_count": 232,
     "metadata": {},
     "output_type": "execute_result"
    }
   ],
   "source": [
    "stats.kruskal(CH_meet, ES_meet, SE_meet)"
   ]
  },
  {
   "cell_type": "code",
   "execution_count": 233,
   "metadata": {},
   "outputs": [
    {
     "data": {
      "text/html": [
       "<table class=\"simpletable\">\n",
       "<caption>Multiple Comparison of Means - Tukey HSD,FWER=0.05</caption>\n",
       "<tr>\n",
       "  <th>group1</th> <th>group2</th> <th>meandiff</th>  <th>lower</th>   <th>upper</th> <th>reject</th>\n",
       "</tr>\n",
       "<tr>\n",
       "    <td>CH</td>     <td>ES</td>    <td>0.0995</td>  <td>-0.0514</td> <td>0.2504</td>  <td>False</td>\n",
       "</tr>\n",
       "<tr>\n",
       "    <td>CH</td>     <td>SE</td>    <td>0.2656</td>  <td>0.1052</td>   <td>0.426</td>  <td>True</td> \n",
       "</tr>\n",
       "<tr>\n",
       "    <td>ES</td>     <td>SE</td>    <td>0.1661</td>  <td>0.0223</td>  <td>0.3099</td>  <td>True</td> \n",
       "</tr>\n",
       "</table>"
      ],
      "text/plain": [
       "<class 'statsmodels.iolib.table.SimpleTable'>"
      ]
     },
     "execution_count": 233,
     "metadata": {},
     "output_type": "execute_result"
    }
   ],
   "source": [
    "from statsmodels.stats.multicomp import pairwise_tukeyhsd\n",
    "\n",
    "tukey = pairwise_tukeyhsd(endog=subset['sclmeet'],\n",
    "                          groups=subset['cntry'],\n",
    "                          alpha = 0.05)\n",
    "\n",
    "tukey.summary()"
   ]
  },
  {
   "cell_type": "code",
   "execution_count": 235,
   "metadata": {},
   "outputs": [
    {
     "name": "stdout",
     "output_type": "stream",
     "text": [
      "cntry\n",
      "CH    5.160622\n",
      "ES    5.260116\n",
      "SE    5.426211\n",
      "Name: sclmeet, dtype: float64\n"
     ]
    },
    {
     "data": {
      "image/png": "[encoded data removed]",
      "text/plain": [
       "<Figure size 432x288 with 1 Axes>"
      ]
     },
     "metadata": {},
     "output_type": "display_data"
    },
    {
     "name": "stdout",
     "output_type": "stream",
     "text": [
      "7.8889073426891425\n",
      "0.00038301513884460325\n"
     ]
    }
   ],
   "source": [
    "# Printing the means for each group.\n",
    "print(subset.groupby(by='cntry').mean()['sclmeet'])\n",
    "\n",
    "sns.boxplot(y='sclmeet', x='cntry',data=subset)\n",
    "plt.show()\n",
    "\n",
    "F, p = stats.f_oneway(CH_meet, SE_meet, ES_meet)\n",
    "\n",
    "# The F statistic.\n",
    "print(F)\n",
    "\n",
    "# The probability. A p < .05 would lead us to believe the group means were\n",
    "# not all similar in the population.\n",
    "print(p)"
   ]
  },
  {
   "cell_type": "markdown",
   "metadata": {},
   "source": [
    "_____\n",
    "<a id='section6'></a>"
   ]
  },
  {
   "cell_type": "markdown",
   "metadata": {},
   "source": [
    "### 6. Pick three or four of the countries in the sample and compare how often people took part in social activities, relative to others their age, in 2014. Are there differences, and if so, which countries stand out?\n",
    "* sclat 1 = much less than most, 5 = much more than most"
   ]
  },
  {
   "cell_type": "code",
   "execution_count": 248,
   "metadata": {},
   "outputs": [],
   "source": [
    "# \n",
    "subset = survey[(survey['cntry'].isin(['ES','SE', 'CH']))& (survey['year'] == 'year_2014')]\n",
    "subset = subset.dropna(subset=['sclact'])\n",
    "subset_social = subset['sclact']\n",
    "CH = subset[subset['cntry']=='CH']\n",
    "ES = subset[subset['cntry']=='ES'] \n",
    "SE = subset[subset['cntry']=='SE']\n",
    "CH_social = CH['sclact']\n",
    "ES_social = ES['sclact']\n",
    "SE_social = SE['sclact']"
   ]
  },
  {
   "cell_type": "code",
   "execution_count": 255,
   "metadata": {
    "scrolled": false
   },
   "outputs": [
    {
     "data": {
      "image/png": "[encoded data removed]",
      "text/plain": [
       "<Figure size 432x288 with 1 Axes>"
      ]
     },
     "metadata": {},
     "output_type": "display_data"
    },
    {
     "name": "stdout",
     "output_type": "stream",
     "text": [
      "Field: Shapiro CH \n",
      "W: 0.893\n",
      "p-value: 0.000\n",
      "\n"
     ]
    },
    {
     "data": {
      "image/png": "[encoded data removed]",
      "text/plain": [
       "<Figure size 432x288 with 1 Axes>"
      ]
     },
     "metadata": {},
     "output_type": "display_data"
    },
    {
     "name": "stdout",
     "output_type": "stream",
     "text": [
      "Field: Shapiro ES \n",
      "W: 0.892\n",
      "p-value: 0.000\n",
      "\n"
     ]
    },
    {
     "data": {
      "image/png": "[encoded data removed]",
      "text/plain": [
       "<Figure size 432x288 with 1 Axes>"
      ]
     },
     "metadata": {},
     "output_type": "display_data"
    },
    {
     "name": "stdout",
     "output_type": "stream",
     "text": [
      "Field: Shapiro SE \n",
      "W: 0.882\n",
      "p-value: 0.000\n",
      "\n"
     ]
    }
   ],
   "source": [
    "for country in subset.cntry.unique():\n",
    "    subset_sclmeet = subset[subset['cntry']==country]['sclact'].dropna()\n",
    "    plt.hist(subset_sclmeet, bins=5)\n",
    "    plt.title(country)\n",
    "    plt.xlim(1,5)\n",
    "    plt.ylim(0, 520)\n",
    "    plt.show()\n",
    "    print('Field: Shapiro %s \\nW: %.3f\\np-value: %.3f\\n'%(country,\n",
    "          stats.shapiro(subset_sclmeet.dropna())[0],\n",
    "          stats.shapiro(subset_sclmeet.dropna())[1]))\n"
   ]
  },
  {
   "cell_type": "markdown",
   "metadata": {},
   "source": [
    "These all look relatively normal, they also look like they take a similar shape. Lets see if the numbers confirm that social levels are pretty equal."
   ]
  },
  {
   "cell_type": "code",
   "execution_count": 253,
   "metadata": {},
   "outputs": [
    {
     "name": "stdout",
     "output_type": "stream",
     "text": [
      "cntry\n",
      "CH    2.781699\n",
      "ES    2.616878\n",
      "SE    2.879425\n",
      "Name: sclact, dtype: float64\n"
     ]
    },
    {
     "data": {
      "image/png": "[encoded data removed]",
      "text/plain": [
       "<Figure size 432x288 with 1 Axes>"
      ]
     },
     "metadata": {},
     "output_type": "display_data"
    },
    {
     "name": "stdout",
     "output_type": "stream",
     "text": [
      "F-stat 22.028167\n",
      "p-value 0.000000\n"
     ]
    }
   ],
   "source": [
    "# Printing the means for each group.\n",
    "print(subset.groupby(by='cntry').mean()['sclact'])\n",
    "\n",
    "sns.boxplot(y='sclact', x='cntry',data=subset)\n",
    "plt.show()\n",
    "\n",
    "F, p = stats.f_oneway(CH_social, SE_social, ES_social)\n",
    "\n",
    "# The F statistic.\n",
    "print('F-stat %5f'%(F))\n",
    "\n",
    "# The probability. A p < .05 would lead us to believe the group means were\n",
    "# not all similar in the population.\n",
    "print('p-value %5f'%(p))"
   ]
  },
  {
   "cell_type": "code",
   "execution_count": 254,
   "metadata": {},
   "outputs": [
    {
     "data": {
      "text/html": [
       "<table class=\"simpletable\">\n",
       "<caption>Multiple Comparison of Means - Tukey HSD,FWER=0.05</caption>\n",
       "<tr>\n",
       "  <th>group1</th> <th>group2</th> <th>meandiff</th>  <th>lower</th>   <th>upper</th>  <th>reject</th>\n",
       "</tr>\n",
       "<tr>\n",
       "    <td>CH</td>     <td>ES</td>    <td>-0.1648</td> <td>-0.2642</td> <td>-0.0654</td>  <td>True</td> \n",
       "</tr>\n",
       "<tr>\n",
       "    <td>CH</td>     <td>SE</td>    <td>0.0977</td>  <td>-0.0076</td>  <td>0.203</td>   <td>False</td>\n",
       "</tr>\n",
       "<tr>\n",
       "    <td>ES</td>     <td>SE</td>    <td>0.2625</td>  <td>0.1679</td>  <td>0.3572</td>   <td>True</td> \n",
       "</tr>\n",
       "</table>"
      ],
      "text/plain": [
       "<class 'statsmodels.iolib.table.SimpleTable'>"
      ]
     },
     "execution_count": 254,
     "metadata": {},
     "output_type": "execute_result"
    }
   ],
   "source": [
    "from statsmodels.stats.multicomp import pairwise_tukeyhsd\n",
    "\n",
    "tukey = pairwise_tukeyhsd(endog=subset['sclact'],\n",
    "                          groups=subset['cntry'],\n",
    "                          alpha = 0.05)\n",
    "\n",
    "tukey.summary()"
   ]
  },
  {
   "cell_type": "markdown",
   "metadata": {},
   "source": [
    "The tukey summary suggests that "
   ]
  }
 ],
 "metadata": {
  "kernelspec": {
   "display_name": "Python 3",
   "language": "python",
   "name": "python3"
  },
  "language_info": {
   "codemirror_mode": {
    "name": "ipython",
    "version": 3
   },
   "file_extension": ".py",
   "mimetype": "text/x-python",
   "name": "python",
   "nbconvert_exporter": "python",
   "pygments_lexer": "ipython3",
   "version": "3.6.5"
  }
 },
 "nbformat": 4,
 "nbformat_minor": 2
}
