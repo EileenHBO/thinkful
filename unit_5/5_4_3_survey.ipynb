{
 "cells": [
  {
   "cell_type": "markdown",
   "metadata": {},
   "source": [
    "# 5.4.3 [Drill - Self Report Do's & Don'ts](https://courses.thinkful.com/data-201v1/project/5.4.3)\n",
    "\n",
    "#DRILL: When to use surveys State whether a survey would be the best option for answering each of the following questions.\n",
    "\n",
    "**1. Popularity of various Uber drivers.** \n",
    "<br>Survey does make sense here. Currently uber does collect rider and driver reviews immediately following a ride. These reviews could be used to determine driver popularity.\n",
    "\n",
    "**2. A grocery store wants to know how much people like strawberry, chocolate, and vanilla ice cream.**\n",
    "<br>A survey could be taken where shoppers are asked if they like/purchase ice cream and then what flavor they prefer. I'd guess that a grocery store would want to know favorite flavors to help stock there shelves, in which case purchase data would be much more useful tool for determining the most popular flavor. \n",
    "<br> \n",
    "\n",
    "**3. Trojan wants to know whether their condoms are more popular among straight people or gay people. **\n",
    "<br>Since this is a sensitive topic, a survey would likely be the best way to get at honest answers on the topic. \n",
    "<br>  \n",
    "\n",
    "**4. Recently, rental rates for HappyCars have increased by 30%, which is quite unusual. You want to find out why this is happening and how to keep the increase going.**\n",
    "<br>A survey may be helpful at getting at how new customers are being referred to the company and what the reason for the rental is (maybe there is a surge in tourism travel in the region or a new corporation moved to town so there is more business travel). Some of these things could also be determined by investigating the puchase data. There may be a seasonal affect, or a certain size of car has become especially popular. etc.\n",
    "<br>\n",
    "\n",
    "**5. Assessing the success rate of a new advertising campaign.** \n",
    "<br>For a digital campaign brands will often use surveys to see if exposed groups vs. unexposed groups have greater awareness during a campaign.\n",
    "<br>\n",
    "\n",
    "**6. Measuring the effect of nurse/patient ratio on patient recovery rates in hospital wards.**\n",
    "<br>This one you would want the actual recovery rates of hospital wards with different nurse/patient."
   ]
  },
  {
   "cell_type": "markdown",
   "metadata": {},
   "source": [
    "## DRILL: Question Design\n",
    "For each of the following, indicate the best question type to use and why.\n",
    "\n",
    "1. Age -- either a drop down list to select the age or multiple choice with age segments.\n",
    "2. Gender -- multiple choice\n",
    "3. Income -- multiple choice with ranges\n",
    "4. Opinions about dish soap -- Could use a rating scale with \"how much do you agree with this statement\" type questions. Could also provide open ended space\n",
    "5. Brand of dish soap used -- Yes/NO for \"have you used X dish soap or select all that apply\n",
    "6. Preference for dish soap brand (Cleany, Sudsy, DeGreaser, Pinesoft) -- ranking where all must rank \n",
    "7. Positive vs negative feelings about dish soap\n",
    "-- Follow up questions with a rating scale"
   ]
  }
 ],
 "metadata": {
  "kernelspec": {
   "display_name": "Python 3",
   "language": "python",
   "name": "python3"
  },
  "language_info": {
   "codemirror_mode": {
    "name": "ipython",
    "version": 3
   },
   "file_extension": ".py",
   "mimetype": "text/x-python",
   "name": "python",
   "nbconvert_exporter": "python",
   "pygments_lexer": "ipython3",
   "version": "3.6.5"
  }
 },
 "nbformat": 4,
 "nbformat_minor": 2
}
