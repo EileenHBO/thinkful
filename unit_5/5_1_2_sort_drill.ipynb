{
 "cells": [
  {
   "cell_type": "markdown",
   "metadata": {},
   "source": [
    "# 5.1.2 [Sorting Algorithms]()\n",
    "Drill: Read about sorting algorithms and implement one in Python\n",
    "* Heap Sort\n",
    "* Selection Sort\n",
    "* QuickSort"
   ]
  },
  {
   "cell_type": "code",
   "execution_count": 1,
   "metadata": {},
   "outputs": [],
   "source": [
    "import time\n",
    "import random\n",
    "\n",
    "# Set seed.\n",
    "random.seed(a=100)\n",
    "\n",
    "# Create our default list.\n",
    "short_list = list(random.sample(range(1000000), 10))\n",
    "long_list = list(random.sample(range(1000000), 10000))"
   ]
  },
  {
   "cell_type": "markdown",
   "metadata": {},
   "source": [
    "**Selection Sort**\n",
    "* In-place comparison sort. O(n^2) complexity. \n",
    "Steps\n",
    "1. Finds the minimum value \n",
    "2. Swaps that value with the value in the first position"
   ]
  },
  {
   "cell_type": "code",
   "execution_count": 20,
   "metadata": {},
   "outputs": [
    {
     "name": "stdout",
     "output_type": "stream",
     "text": [
      "[152745, 183236, 366725, 412125, 477025, 481850, 739784, 767514, 808225, 997948]\n",
      "--- 0.0012898445129394531 seconds ---\n"
     ]
    }
   ],
   "source": [
    "# fin the minimum element in the remaining unsorted array\n",
    "def selection_sort(sort_list):    \n",
    "    for i in range(len(sort_list)):\n",
    "        \n",
    "        min_idx = i\n",
    "        for j in range(i+1, len(sort_list)):\n",
    "            if sort_list[min_idx] > sort_list[j]:\n",
    "                min_idx = j\n",
    "\n",
    "        # swap the found minimimum with the first element\n",
    "        temp = sort_list[i]\n",
    "        sort_list[i] = sort_list[min_idx]\n",
    "        sort_list[min_idx] = temp\n",
    "\n",
    "    return sort_list\n",
    "    \n",
    "start_time = time.time()\n",
    "print(selection_sort(short_list))\n",
    "print(\"--- %s seconds ---\" % (time.time() - start_time))"
   ]
  },
  {
   "cell_type": "code",
   "execution_count": 23,
   "metadata": {},
   "outputs": [
    {
     "name": "stdout",
     "output_type": "stream",
     "text": [
      "--- 4.201638221740723 seconds ---\n"
     ]
    }
   ],
   "source": [
    "start_time = time.time()\n",
    "selection_sort(long_list)\n",
    "print(\"--- %s seconds ---\" % (time.time() - start_time))"
   ]
  },
  {
   "cell_type": "markdown",
   "metadata": {},
   "source": [
    "The long list is significantly longer amount of time to manage although not quite as slow as Insertion sort. The great thing about selection sort is that once a section is sorted you don't resort it. Insert sort must compare every value in the list to the new value. "
   ]
  }
 ],
 "metadata": {
  "kernelspec": {
   "display_name": "Python 3",
   "language": "python",
   "name": "python3"
  },
  "language_info": {
   "codemirror_mode": {
    "name": "ipython",
    "version": 3
   },
   "file_extension": ".py",
   "mimetype": "text/x-python",
   "name": "python",
   "nbconvert_exporter": "python",
   "pygments_lexer": "ipython3",
   "version": "3.6.5"
  }
 },
 "nbformat": 4,
 "nbformat_minor": 2
}
