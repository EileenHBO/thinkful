{
 "cells": [
  {
   "cell_type": "markdown",
   "metadata": {},
   "source": [
    "____\n",
    "# 5.1.3 [Tree Drill](https://courses.thinkful.com/data-201v1/project/5.1.3)\n",
    "Drill: Implement a binary tree, filled with 15 pieces of random data. Write a program to traverse the tree using a breadth first traversal."
   ]
  },
  {
   "cell_type": "code",
   "execution_count": 1,
   "metadata": {},
   "outputs": [],
   "source": [
    "import random"
   ]
  },
  {
   "cell_type": "code",
   "execution_count": 44,
   "metadata": {},
   "outputs": [],
   "source": [
    "class node(object):\n",
    "    def __init__(self, value, left=None, right=None):\n",
    "        self.value = value\n",
    "        self.left = left\n",
    "        self.right = right\n",
    "        \n",
    "class binary_search_tree(object):\n",
    "    def __init__(self, value):\n",
    "        self.root = node(value)\n",
    "        \n",
    "    def insert(self, value):\n",
    "        current = self.root\n",
    "        while current:\n",
    "            if value > current.value:\n",
    "                if current.right is None:\n",
    "                    current.right = node(value)\n",
    "                    break\n",
    "                else: \n",
    "                    current = current.right\n",
    "            else:\n",
    "                if current.left is None:\n",
    "                    current.left = node(value)\n",
    "                    break\n",
    "                else:\n",
    "                    current = current.left\n",
    "                    \n",
    "    def breadth_first_traversal(self, root=None):\n",
    "\n",
    "        root = self.root if root is None else root\n",
    "        to_visit = [root]\n",
    "        while to_visit:\n",
    "            current = to_visit.pop(0)\n",
    "            print(current.value)\n",
    "            if current.left:\n",
    "                to_visit.append(current.left)\n",
    "            if current.right:\n",
    "                to_visit.append(current.right)\n",
    "                \n",
    "                \n",
    "t = binary_search_tree(100)"
   ]
  },
  {
   "cell_type": "code",
   "execution_count": 49,
   "metadata": {},
   "outputs": [
    {
     "name": "stdout",
     "output_type": "stream",
     "text": [
      "100\n",
      "21\n",
      "0\n",
      "45\n",
      "6\n",
      "30\n",
      "48\n",
      "4\n",
      "16\n",
      "25\n",
      "37\n",
      "48\n",
      "85\n",
      "5\n",
      "8\n",
      "21\n",
      "30\n",
      "35\n",
      "43\n",
      "50\n",
      "94\n",
      "7\n",
      "29\n",
      "44\n",
      "49\n",
      "61\n",
      "96\n",
      "57\n",
      "68\n",
      "98\n",
      "56\n",
      "58\n",
      "62\n",
      "77\n",
      "53\n",
      "61\n",
      "67\n",
      "73\n",
      "84\n",
      "66\n",
      "69\n",
      "75\n",
      "78\n",
      "65\n",
      "74\n",
      "79\n"
     ]
    }
   ],
   "source": [
    "for i in list(random.sample(range(100),15)):\n",
    "    t.insert(i)\n",
    "    \n",
    "t.breadth_first_traversal(t.root)"
   ]
  },
  {
   "cell_type": "code",
   "execution_count": 2,
   "metadata": {},
   "outputs": [],
   "source": [
    "# Create a data class called Node\n",
    "class Node:\n",
    "    def __init__(self, val):\n",
    "        self.left = None\n",
    "        self.right = None\n",
    "        self.val = val\n",
    "        \n",
    "    def PrintTree(self):\n",
    "        if self.left:\n",
    "            self.left.PrintTree()\n",
    "        print(self.val),\n",
    "        if self.right:\n",
    "            self.right.PrintTree()\n",
    "        print(self.val)"
   ]
  },
  {
   "cell_type": "code",
   "execution_count": 3,
   "metadata": {},
   "outputs": [],
   "source": [
    "values = list(random.sample(range(100),15))\n",
    "keys = ['A', 'B', 'C', 'D', 'E', \n",
    "        'F', 'G', 'H', 'I', 'J', \n",
    "        'K', 'L', 'M', 'N', 'O']\n",
    "tree_dict = dict(zip(keys, values))"
   ]
  },
  {
   "cell_type": "code",
   "execution_count": 4,
   "metadata": {},
   "outputs": [],
   "source": [
    "# Establish the initial root node and children\n",
    "root = Node(tree_dict['A'])\n",
    "root.left = Node(tree_dict['B'])\n",
    "root.right = Node(tree_dict['C'])\n",
    "\n",
    "# Add the appropriate children for ‘B’ and ‘C’\n",
    "root.left.left = Node(tree_dict['D'])\n",
    "root.left.right = Node(tree_dict['E'])\n",
    "root.right.left = Node(tree_dict['F'])\n",
    "root.right.right = Node(tree_dict['G'])\n",
    "\n",
    "# Add right and left nodes for DEFG\n",
    "# Add the appropriate children for ‘B’ and ‘C’\n",
    "root.left.left.left = Node(tree_dict['H'])\n",
    "root.left.left.right = Node(tree_dict['I'])\n",
    "\n",
    "root.left.right.left = Node(tree_dict['J'])\n",
    "root.left.right.right = Node(tree_dict['K'])\n",
    "\n",
    "root.right.left.left = Node(tree_dict['L'])\n",
    "root.right.left.right = Node(tree_dict['M'])\n",
    "\n",
    "root.right.right.left = Node(tree_dict['N'])\n",
    "root.right.right.right = Node(tree_dict['O'])"
   ]
  },
  {
   "cell_type": "code",
   "execution_count": 7,
   "metadata": {},
   "outputs": [
    {
     "name": "stdout",
     "output_type": "stream",
     "text": [
      "<__main__.Node object at 0x10db8c470>\n"
     ]
    }
   ],
   "source": [
    "print(root)"
   ]
  },
  {
   "cell_type": "code",
   "execution_count": 6,
   "metadata": {},
   "outputs": [
    {
     "name": "stdout",
     "output_type": "stream",
     "text": [
      "[<__main__.Node object at 0x10db8c470>]\n"
     ]
    }
   ],
   "source": [
    "def breadth_first(root):\n",
    "    nodes = []\n",
    "    stack = [root]\n",
    "    print(stack)\n",
    "    while stack: \n",
    "        cur_node = \n",
    "breadth_first(root)"
   ]
  },
  {
   "cell_type": "code",
   "execution_count": 26,
   "metadata": {
    "collapsed": true
   },
   "outputs": [
    {
     "name": "stdout",
     "output_type": "stream",
     "text": [
      "77\n",
      "77\n",
      "75\n",
      "31\n",
      "31\n",
      "75\n",
      "82\n",
      "6\n",
      "6\n",
      "33\n",
      "46\n",
      "46\n",
      "33\n",
      "82\n",
      "67\n",
      "61\n",
      "61\n",
      "22\n",
      "45\n",
      "45\n",
      "22\n",
      "13\n",
      "11\n",
      "11\n",
      "78\n",
      "50\n",
      "50\n",
      "78\n",
      "13\n",
      "67\n"
     ]
    }
   ],
   "source": [
    "root.PrintTree()"
   ]
  },
  {
   "cell_type": "code",
   "execution_count": 45,
   "metadata": {
    "scrolled": false
   },
   "outputs": [
    {
     "data": {
      "text/plain": [
       "'B'"
      ]
     },
     "execution_count": 45,
     "metadata": {},
     "output_type": "execute_result"
    }
   ],
   "source": [
    "root.left.val"
   ]
  },
  {
   "cell_type": "code",
   "execution_count": 38,
   "metadata": {},
   "outputs": [
    {
     "data": {
      "text/plain": [
       "<__main__.Node at 0x10ce2b358>"
      ]
     },
     "execution_count": 38,
     "metadata": {},
     "output_type": "execute_result"
    }
   ],
   "source": [
    "Node('D')"
   ]
  },
  {
   "cell_type": "code",
   "execution_count": 37,
   "metadata": {},
   "outputs": [
    {
     "data": {
      "text/plain": [
       "<__main__.Node at 0x10ce12208>"
      ]
     },
     "execution_count": 37,
     "metadata": {},
     "output_type": "execute_result"
    }
   ],
   "source": [
    "Node('E')"
   ]
  }
 ],
 "metadata": {
  "kernelspec": {
   "display_name": "Python 3",
   "language": "python",
   "name": "python3"
  },
  "language_info": {
   "codemirror_mode": {
    "name": "ipython",
    "version": 3
   },
   "file_extension": ".py",
   "mimetype": "text/x-python",
   "name": "python",
   "nbconvert_exporter": "python",
   "pygments_lexer": "ipython3",
   "version": "3.6.5"
  }
 },
 "nbformat": 4,
 "nbformat_minor": 2
}
