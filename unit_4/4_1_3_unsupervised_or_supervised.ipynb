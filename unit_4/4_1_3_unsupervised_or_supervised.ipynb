{
 "cells": [
  {
   "cell_type": "markdown",
   "metadata": {},
   "source": [
    "# 4.1.3 [Drill: Unsupervised or supervised?](https://courses.thinkful.com/data-201v1/project/4.1.3)\n",
    "\n",
    "*For each of these scenarios decide if you could use supervised or unsupervised techniques or both.*"
   ]
  },
  {
   "cell_type": "markdown",
   "metadata": {},
   "source": [
    "#### 1. Define the Likelihood that an individual will contract a specific disease?\n",
    "This will be supervised. You will most likely have a dataset with outcomes to model the new individual against.\n",
    "\n",
    "#### 2. Translate a set of images into variables for modeling\n",
    "Unsupervised and Supervised. There are a few ways to do this depending on how many images you are able to label. This leans more towards unsupervised as you would like to identify images that have not been seen by the algorithm before.\n",
    "\n",
    "#### 3. An ecommerce company wnats to idntify power users\n",
    "Supervised if you have a definition for 'power users'. Clustering is often used to put similar users together. ONce the users are clustered by behavior the company could go in and label the clusters that they deme to be powerful.\n",
    "\n",
    "#### 4. That same company wants to see shopping patterns in users\n",
    "This one would primarily be done using clustering. Features involving time series/tenure would be important to account for how a users relationship may change after initial purchase.\n",
    "\n",
    "#### 5. You want to reduce the number of variables inputting into your random forest model\n",
    "You could do this manually or use PCA to feature reduce which would be an unsupervised approach."
   ]
  }
 ],
 "metadata": {
  "kernelspec": {
   "display_name": "Python 3",
   "language": "python",
   "name": "python3"
  },
  "language_info": {
   "codemirror_mode": {
    "name": "ipython",
    "version": 3
   },
   "file_extension": ".py",
   "mimetype": "text/x-python",
   "name": "python",
   "nbconvert_exporter": "python",
   "pygments_lexer": "ipython3",
   "version": "3.6.5"
  }
 },
 "nbformat": 4,
 "nbformat_minor": 2
}
