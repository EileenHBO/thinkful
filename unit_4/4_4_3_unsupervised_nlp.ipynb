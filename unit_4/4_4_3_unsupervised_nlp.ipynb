{
 "cells": [
  {
   "cell_type": "markdown",
   "metadata": {},
   "source": [
    "# 4.4.3. [As Unsupervised Problem](https://courses.thinkful.com/data-201v1/project/4.4.3)"
   ]
  },
  {
   "cell_type": "markdown",
   "metadata": {},
   "source": [
    "## Drill: tf-idf scores\n",
    "\n",
    "Converting sentences into numeric vectors is fundamental for a lot of unsupervised NLP tasks.  To make sure you are solid on how these vectors work, please generate the vectors for the last three sentences.  If you are feeling uncertain, have your mentor walk you through it.\n",
    "\n",
    "\n",
    "\n",
    "term document matrix for the 6 sentences\n",
    "\n",
    "|           | 1 | 2 | 3 | 4 | 5 | 6 |\n",
    "|-----------|---|---|---|---|---|---|\n",
    "| Monty     | 1 | 0 | 0 | 1 | 0 | 0 |\n",
    "| Python    | 1 | 1 | 0 | 1 | 0 | 0 |\n",
    "| sketch    | 1 | 1 | 0 | 0 | 0 | 0 |\n",
    "| laugh     | 1 | 1 | 0 | 1 | 0 | 0 |\n",
    "| funny     | 0 | 3 | 0 | 1 | 0 | 0 |\n",
    "| best      | 1 | 1 | 1 | 0 | 1 | 0 |\n",
    "| ice cream | 0 | 0 | 1 | 0 | 1 | 1 |\n",
    "| dessert   | 0 | 0 | 1 | 0 | 1 | 0 |\n",
    "| taste     | 0 | 0 | 1 | 0 | 1 | 2 |\n",
    "\n",
    "\n",
    "4. \"The Lumberjack Song is the funniest Monty Python bit: I can't think of it without laughing.\"\n",
    "5. \"I would rather put strawberries on my ice cream for dessert, they have the best taste.\"\n",
    "6. \"The taste of caramel is a fantastic accompaniment to tasty mint ice cream.\"\n",
    "\n",
    "|           |df |cf| idf |\n",
    "|-----------|---|---|---|\n",
    "| Monty     | 2 | 2 | 1.585 |\n",
    "| Python    | 3 | 3 | 1 |\n",
    "| sketch    | 2 | 2 | 1.585 |\n",
    "| laugh     | 3 | 3 | 1 |\n",
    "| funny     | 2 | 4 | 1.585 |\n",
    "| best      | 4 | 4 | .585 |\n",
    "| ice cream | 3 | 3 | 1 |\n",
    "| dessert   | 2 | 2 | 1.585 |\n",
    "| taste     | 3 | 4 | 1 |\n",
    "\n",
    "**Represent each sentence as a vectorf made up of tf-idf scores for each word**:\n",
    "\n",
    "|           | idf | 4 | 5 | 6 |\n",
    "|-----------|---|---|---|---|\n",
    "| Monty     | 1.585 | 1.585 | 0 | 0 |\n",
    "| Python    | 1 | 1 | 0 | 0 |\n",
    "| sketch    | 1.585 | 0 | 0 | 0 |\n",
    "| laugh     | 1 | 1 | 0 | 0 |\n",
    "| funny     | 1.585 | 1.585 | 0 | 0 |\n",
    "| best      | .585 | 0 | 0.585 | 0 |\n",
    "| ice cream | 1 | 0 | 1 | 1 |\n",
    "| dessert   | 1.585 | 0 | 1.585 | 0 |\n",
    "| taste     | 1 | 0 | 1 | 2 |\n",
    "\n",
    "\n",
    "\n",
    "$$tf-idf_{t,d}=(tf_{t,d})(idf_t)$$\n",
    "\n"
   ]
  },
  {
   "cell_type": "markdown",
   "metadata": {
    "run_control": {
     "frozen": false,
     "read_only": false
    }
   },
   "source": [
    "# Drill 0: Test set\n",
    "\n",
    "Now it's your turn: Apply our LSA model to the test set.  \n",
    "Does it identify similar sentences for components 0 through 4? \n",
    "\n",
    "\n",
    "#### So the Oh ! and the Ah clusters popped up again. In the test set there seemed to be components focusing on Mr. and Mrs Weston and a section where each paragraph started with 'Yes,' "
   ]
  },
  {
   "cell_type": "code",
   "execution_count": 11,
   "metadata": {
    "run_control": {
     "frozen": false,
     "read_only": false
    },
    "scrolled": false
   },
   "outputs": [
    {
     "name": "stdout",
     "output_type": "stream",
     "text": [
      "Original sentence: \" And I am quite serious too , I assure you ,\" replied Mrs . Elton gaily , \" in resolving to be always on the watch , and employing my friends to watch also , that nothing really unexceptionable may pass us .\"\n",
      "Tf_idf vector: {'resolving': 0.3424390305045805, 'unexceptionable': 0.3196409792117937, 'assure': 0.267729777836069, 'friends': 0.2515333740641343, 'quite': 0.1916471918420347, 'replied': 0.20315405638674577, 'watch': 0.62300800500314, 'elton': 0.16874782424809767, 'pass': 0.28445227585106625, 'really': 0.21963852817625326, 'mrs': 0.14780961753993585}\n"
     ]
    }
   ],
   "source": [
    "\n",
    "#Reshapes the vectorizer output into something people can read for test set\n",
    "X_test_tfidf_csr = X_test_tfidf.tocsr()\n",
    "\n",
    "#number of paragraphs for test set\n",
    "n = X_test_tfidf_csr.shape[0]\n",
    "#A list of dictionaries, one per paragraph\n",
    "tfidf_bypara = [{} for _ in range(0,n)]\n",
    "#List of features\n",
    "terms = vectorizer.get_feature_names()\n",
    "#for each paragraph, lists the feature words and their tf-idf scores\n",
    "for i, j in zip(*X_test_tfidf_csr.nonzero()):\n",
    "    tfidf_bypara[i][terms[j]] = X_test_tfidf_csr[i, j]\n",
    "\n",
    "#Keep in mind that the log base 2 of 1 is 0, \n",
    "# so a tf-idf score of 0 indicates that the word was \n",
    "# present once in that sentence.\n",
    "print('Original sentence:', X_test[5])\n",
    "print('Tf_idf vector:', tfidf_bypara[5])"
   ]
  },
  {
   "cell_type": "code",
   "execution_count": 13,
   "metadata": {
    "collapsed": true,
    "run_control": {
     "frozen": false,
     "read_only": false
    }
   },
   "outputs": [
    {
     "name": "stdout",
     "output_type": "stream",
     "text": [
      "Percent variance captured by all components: 49.39222593913456\n",
      "Component 0:\n",
      "\" Oh !    0.999921\n",
      "\" Oh !    0.999921\n",
      "\" Oh !    0.999921\n",
      "\" Oh !    0.999921\n",
      "\" Oh !    0.999921\n",
      "\" Oh !    0.999921\n",
      "\" Oh !    0.999921\n",
      "\" Oh !    0.999921\n",
      "\" Oh !    0.999921\n",
      "\" Oh !    0.999921\n",
      "Name: 0, dtype: float64\n",
      "Component 1:\n",
      "\" Well , Mrs . Weston ,\" said Emma triumphantly when he left them , \" what do you say now to Mr . Knightley ' s marrying Jane Fairfax ?\"                                                                                                                                                                                                                                                                                                             0.617142\n",
      "After tea , Mr . and Mrs . Weston , and Mr . Elton sat down with Mr . Woodhouse to cards .                                                                                                                                                                                                                                                                                                                                                           0.598607\n",
      "Frank turned instantly to Emma , to claim her former promise ; and boasted himself an engaged man , which his father looked his most perfect approbation of  and it then appeared that Mrs . Weston was wanting _him_ to dance with Mrs . Elton himself , and that their business was to help to persuade him into it , which was done pretty soon . Mr . Weston and Mrs . Elton led the way , Mr . Frank Churchill and Miss Woodhouse followed .    0.564014\n",
      "\" Mr .                                                                                                                                                                                                                                                                                                                                                                                                                                               0.519750\n",
      "While she was gone , Mr . Knightley called , and sat some time with Mr . Woodhouse and Emma , till Mr . Woodhouse , who had previously made up his mind to walk out , was persuaded by his daughter not to defer it , and was induced by the entreaties of both , though against the scruples of his own civility , to leave Mr . Knightley for that purpose .                                                                                       0.512128\n",
      "Mr . Weston was musing .                                                                                                                                                                                                                                                                                                                                                                                                                             0.505920\n",
      "\" Mrs . Weston ' s manners ,\" said Emma , \" were always particularly good .                                                                                                                                                                                                                                                                                                                                                                          0.492859\n",
      "\" I think , indeed ,\" said John Knightley pleasantly , \" that Mr . Weston has some little claim .                                                                                                                                                                                                                                                                                                                                                    0.491074\n",
      "In this walk Emma and Mr . Weston found all the others assembled ; and towards this view she immediately perceived Mr . Knightley and Harriet distinct from the rest , quietly leading the way .                                                                                                                                                                                                                                                     0.489127\n",
      "\" Why , to be sure ,\" said Mr . Woodhouse \" yes , certainly  I cannot deny that Mrs . Weston , poor Mrs . Weston , does come and see us pretty often  but then  she is always obliged to go away again .\"                                                                                                                                                                                                                                            0.486666\n",
      "Name: 1, dtype: float64\n",
      "Component 2:\n",
      "\" Ah !     0.996966\n",
      "\" Ah !     0.996966\n",
      "\" Ah !     0.996966\n",
      "\" Ah !     0.996966\n",
      "\" Ah !     0.996966\n",
      "\" Ah !     0.996966\n",
      "\" Ah !     0.996966\n",
      "\" Ah !     0.996966\n",
      "\" Ah !     0.996966\n",
      "\" Ah !\"    0.996966\n",
      "Name: 2, dtype: float64\n",
      "Component 3:\n",
      "\" Mr .                                                                                                                                                                                                                                                                 0.634212\n",
      "After tea , Mr . and Mrs . Weston , and Mr . Elton sat down with Mr . Woodhouse to cards .                                                                                                                                                                             0.562848\n",
      "Mr . Knightley was thoughtful again .                                                                                                                                                                                                                                  0.525580\n",
      "\" You are not vain , Mr . Knightley .                                                                                                                                                                                                                                  0.510459\n",
      "Mr . Weston was musing .                                                                                                                                                                                                                                               0.500523\n",
      "Mr . Weston ' s own happiness was indisputable .                                                                                                                                                                                                                       0.457962\n",
      "She meant to be very happy , in spite of the scene being laid at Mr . Cole ' s ; and without being able to forget that among the failings of Mr . Elton , even in the days of his favour , none had disturbed her more than his propensity to dine with Mr . Cole .    0.426043\n",
      "\" And I , Mr . Knightley , am equally stout in my confidence of its not doing them any harm .                                                                                                                                                                          0.396745\n",
      "Harriet , Mr . Elton , and Mr . Knightley , their own especial set , were the only persons invited to meet them ; the hours were to be early , as well as the numbers few ; Mr . Woodhouse ' s habits and inclination being consulted in every thing .                 0.396422\n",
      "\" Christmas weather ,\" observed Mr . Elton .                                                                                                                                                                                                                           0.393391\n",
      "Name: 3, dtype: float64\n",
      "Component 4:\n",
      "\" Yes , do .\"                                                                   0.653083\n",
      "\" Yes , sometimes he can .\"                                                     0.653083\n",
      "\" Yes .                                                                         0.653083\n",
      "\" Yes I should , I am sure I should .                                           0.639093\n",
      "\" Yes , so I imagined .                                                         0.610695\n",
      "\" Yes  a good deal _nearer_ .\"                                                  0.564815\n",
      "\" Yes ; but we must not rest our claims on that distinction .                   0.559229\n",
      "\" Yes , our good Mrs . Elton .                                                  0.552878\n",
      "\" Yes , very soon .                                                             0.533867\n",
      "\" Yes , she would be , but that she thinks there will be another put - off .    0.530763\n",
      "Name: 4, dtype: float64\n"
     ]
    }
   ],
   "source": [
    "# Remember, you will use the same model, only with the test set data.  Don't fit a new model by mistake!\n",
    "#Looking at what sorts of paragraphs our solution considers similar, for the first five identified topics\n",
    "svd= TruncatedSVD(130)\n",
    "lsa = make_pipeline(svd, Normalizer(copy=False))\n",
    "# Run SVD on the training data, then project the training data.\n",
    "X_test_lsa = lsa.fit_transform(X_test_tfidf)\n",
    "\n",
    "variance_explained=svd.explained_variance_ratio_\n",
    "total_variance = variance_explained.sum()\n",
    "print(\"Percent variance captured by all components:\",total_variance*100)\n",
    "\n",
    "paras_by_component=pd.DataFrame(X_test_lsa,index=X_test)\n",
    "for i in range(5):\n",
    "    print('Component {}:'.format(i))\n",
    "    print(paras_by_component.loc[:,i].sort_values(ascending=False)[0:10])\n"
   ]
  },
  {
   "cell_type": "markdown",
   "metadata": {},
   "source": [
    "_______"
   ]
  },
  {
   "cell_type": "code",
   "execution_count": 5,
   "metadata": {
    "run_control": {
     "frozen": false,
     "read_only": false
    }
   },
   "outputs": [],
   "source": [
    "import numpy as np\n",
    "import pandas as pd\n",
    "import scipy\n",
    "import matplotlib.pyplot as plt\n",
    "import seaborn as sns\n",
    "%matplotlib inline\n",
    "\n",
    "import re\n",
    "import nltk\n",
    "from nltk.corpus import gutenberg\n",
    "nltk.download('gutenberg')\n",
    "\n",
    "from sklearn.model_selection import train_test_split\n",
    "from sklearn.feature_extraction.text import TfidfVectorizer\n",
    "from sklearn.decomposition import TruncatedSVD\n",
    "from sklearn.pipeline import make_pipeline\n",
    "from sklearn.preprocessing import Normalizer"
   ]
  },
  {
   "cell_type": "markdown",
   "metadata": {},
   "source": [
    "# Comparing paragraphs within Emma by Jane Austen using LSA"
   ]
  },
  {
   "cell_type": "code",
   "execution_count": 7,
   "metadata": {
    "run_control": {
     "frozen": false,
     "read_only": false
    }
   },
   "outputs": [
    {
     "name": "stdout",
     "output_type": "stream",
     "text": [
      "[nltk_data] Downloading package gutenberg to /Users/edise/nltk_data...\n",
      "[nltk_data]   Package gutenberg is already up-to-date!\n",
      "['[ Emma by Jane Austen 1816 ]', 'VOLUME I', 'CHAPTER I', 'Emma Woodhouse , handsome , clever , and rich , with a comfortable home and happy disposition , seemed to unite some of the best blessings of existence ; and had lived nearly twenty - one years in the world with very little to distress or vex her .']\n"
     ]
    }
   ],
   "source": [
    "#reading in the data, this time in the form of paragraphs\n",
    "emma=gutenberg.paras('austen-emma.txt')\n",
    "nlp = spacy.load('en')\n",
    "alice_doc = nlp(alice)\n",
    "\n",
    "#processing\n",
    "emma_paras=[]\n",
    "for paragraph in emma:\n",
    "    para=paragraph[0]\n",
    "    #removing the double-dash from all words\n",
    "    para=[re.sub(r'--','',word) for word in para]\n",
    "    #Forming each paragraph into a string and adding it to the list of strings.\n",
    "    emma_paras.append(' '.join(para))\n",
    "\n",
    "print(emma_paras[0:4])"
   ]
  },
  {
   "cell_type": "markdown",
   "metadata": {
    "run_control": {
     "frozen": false,
     "read_only": false
    }
   },
   "source": [
    "# Drill 1: Tweaking tf-idf\n",
    "\n",
    "Go back up to the code where we originally translated the text from words to numbers.  \n",
    "* There are a lot of decision-points: stop list, thresholds for inclusion\n",
    "* Could integrate spaCy to incorporate named entities/lemmas We also didn't integrate spaCy\n",
    "\n",
    "Change things up a few times and see how that affects the results of the LSA.  \n",
    "Write up your observations and share them with your mentor."
   ]
  },
  {
   "cell_type": "markdown",
   "metadata": {},
   "source": [
    "Going to see what happens when \n",
    "* analyzer: whether the feature should be made of word or character n-grams {'word', 'char', 'char_wb'}\n",
    "* stop_words: 'english is currenlty the only supported string value. could use a list of word that will be removed or could use None, no stop words will be used. max_df can be set to a value in the range 0.7-1.0\n",
    "* ngram_range: lower and upper boundeary of th rande of n-values for different n-grams extracted \n",
    "* max_df: when building the vocabulary ignore terms that have a document frequency higher than the given threshold\n",
    "* min_dif: \n",
    "* max_fieatures"
   ]
  },
  {
   "cell_type": "code",
   "execution_count": 14,
   "metadata": {
    "run_control": {
     "frozen": false,
     "read_only": false
    }
   },
   "outputs": [],
   "source": [
    "#Tweaks Go Here\n",
    "X_train, X_test = train_test_split(emma_paras, test_size=0.4, random_state=0)"
   ]
  },
  {
   "cell_type": "markdown",
   "metadata": {},
   "source": [
    "1. **Tried stop_words=None with a max_df at 0.8.** With this approach the stopwords 'the', 'very', and 'few' were considered features. Bad news is that the total number of features went down so I would interpret that as the documents being evaluated with fewer and less valuable features.\n",
    "2. **Ngram without removing stop words** To do this I set analyzer='char'. turns out this just looks at tokens and not words\n",
    "3. **Ngrams using analyzer='char_wb'** Still looking at letters instead of words \n",
    "4. **Ngrams with a range where the word must be atleast (4,20) characters long** so i don't think i'm doing ngrams correctly. I do like the idea of using word/phrase chunks that run across words but this doesn't seem to be that successful so far - in some cases i end up 2,7192 features.\n",
    "5. **Remove stopwords by lowering max_df** even at Max_df=0.3 we are getting terms like \"very\" and \"few\" popping up. Also when I ran LSA we are finding multiple components to contain the same information the list of exclamations crossed multiple components\n",
    "6. **Using stopword but keeping max_df low** the components went back to their original themes. btw using max_df=0.3 \n",
    "7. **See what happens when df is much higher** with min_df = 10 number of features that make that limit is much lower (382). with LSA the components seem similar to the original set up. I would imagine it would make it harder to apply the same components to other documents. Or could be much easier to apply to other documents but weaker in understanding what makes a document unique. "
   ]
  },
  {
   "cell_type": "code",
   "execution_count": 35,
   "metadata": {
    "run_control": {
     "frozen": false,
     "read_only": false
    },
    "scrolled": false
   },
   "outputs": [
    {
     "name": "stdout",
     "output_type": "stream",
     "text": [
      "Number of features: 382\n",
      "Original sentence: A very few minutes more , however , completed the present trial .\n",
      "Tf_idf vector: {'minutes': 0.7127450310382584, 'present': 0.701423210857947}\n"
     ]
    }
   ],
   "source": [
    "vectorizer = TfidfVectorizer(max_df=0.5, # drop words that occur in more than half the paragraphs\n",
    "                             min_df=10, # only use words that appear at least twice\n",
    "                             stop_words='english', \n",
    "                             lowercase=True, #convert everything to lower case\n",
    "                             use_idf=True,#we definitely want to use inverse document frequencies in our weighting\n",
    "                             analyzer='word',\n",
    "                             #ngram_range= (4,20),\n",
    "                             norm=u'l2', #Applies a correction factor so that longer paragraphs and shorter paragraphs get treated equally\n",
    "                             smooth_idf=True #Adds 1 to all document frequencies, as if an extra document existed that used every word once.  Prevents divide-by-zero errors\n",
    "                            )\n",
    "\n",
    "\n",
    "#Applying the vectorizer\n",
    "emma_paras_tfidf=vectorizer.fit_transform(emma_paras)\n",
    "print(\"Number of features: %d\" % emma_paras_tfidf.get_shape()[1])\n",
    "\n",
    "#splitting into training and test sets\n",
    "X_train_tfidf, X_test_tfidf= train_test_split(emma_paras_tfidf, test_size=0.4, random_state=0)\n",
    "\n",
    "\n",
    "#Reshapes the vectorizer output into something people can read\n",
    "X_train_tfidf_csr = X_train_tfidf.tocsr()\n",
    "\n",
    "#number of paragraphs\n",
    "n = X_train_tfidf_csr.shape[0]\n",
    "#A list of dictionaries, one per paragraph\n",
    "tfidf_bypara = [{} for _ in range(0,n)]\n",
    "#List of features\n",
    "terms = vectorizer.get_feature_names()\n",
    "#for each paragraph, lists the feature words and their tf-idf scores\n",
    "for i, j in zip(*X_train_tfidf_csr.nonzero()):\n",
    "    tfidf_bypara[i][terms[j]] = X_train_tfidf_csr[i, j]\n",
    "\n",
    "#Keep in mind that the log base 2 of 1 is 0, \n",
    "# so a tf-idf score of 0 indicates that the word was \n",
    "# present once in that sentence.\n",
    "print('Original sentence:', X_train[5])\n",
    "print('Tf_idf vector:', tfidf_bypara[5])"
   ]
  },
  {
   "cell_type": "code",
   "execution_count": 36,
   "metadata": {
    "run_control": {
     "frozen": false,
     "read_only": false
    },
    "scrolled": false
   },
   "outputs": [
    {
     "name": "stdout",
     "output_type": "stream",
     "text": [
      "Percent variance captured by all components: 69.32\n",
      "Component 0:\n",
      "\" Oh !\"    0.997652\n",
      "\" Oh !     0.997652\n",
      "\" Oh !     0.997652\n",
      "\" Oh !     0.997652\n",
      "\" Oh !     0.997652\n",
      "\" Oh !     0.997652\n",
      "\" Oh !     0.997652\n",
      "\" Oh !\"    0.997652\n",
      "\" Oh !     0.997652\n",
      "\" Oh !     0.997652\n",
      "Name: 0, dtype: float64\n",
      "Component 1:\n",
      "\" You have made her too tall , Emma ,\" said Mr . Knightley .                                                                                                                0.700777\n",
      "\" You get upon delicate subjects , Emma ,\" said Mrs . Weston smiling ; \" remember that I am here . Mr .                                                                     0.665624\n",
      "Emma found that it was not Mr . Weston ' s fault that the number of privy councillors was not yet larger .                                                                  0.637349\n",
      "Mr . Knightley might quarrel with her , but Emma could not quarrel with herself .                                                                                           0.625491\n",
      "\" There were misunderstandings between them , Emma ; he said so expressly .                                                                                                 0.594700\n",
      "\" It is not now worth a regret ,\" said Emma .                                                                                                                               0.594700\n",
      "\" Emma ,\" said Mr . Knightley presently , \" I have a piece of news for you .                                                                                                0.583535\n",
      "Emma could not have desired a more spirited rejection of Mr . Martin ' s prose .                                                                                            0.575816\n",
      "\" Now ,\" said Emma , when they were fairly beyond the sweep gates , \" now Mr . Weston , do let me know what has happened .\"                                                 0.569306\n",
      "\" I do not know what your opinion may be , Mrs . Weston ,\" said Mr . Knightley , \" of this great intimacy between Emma and Harriet Smith , but I think it a bad thing .\"    0.563302\n",
      "Name: 1, dtype: float64\n",
      "Component 2:\n",
      "CHAPTER IV      1.0\n",
      "CHAPTER XVI     1.0\n",
      "CHAPTER V       1.0\n",
      "CHAPTER XII     1.0\n",
      "CHAPTER VIII    1.0\n",
      "CHAPTER III     1.0\n",
      "CHAPTER III     1.0\n",
      "CHAPTER XI      1.0\n",
      "CHAPTER V       1.0\n",
      "CHAPTER X       1.0\n",
      "Name: 2, dtype: float64\n",
      "Component 3:\n",
      "At first it was downright dulness to Emma .                                                                                0.692648\n",
      "There was no bearing such an \" always ;\" and to break through her dreadful gratitude , Emma made the direct inquiry of     0.692648\n",
      "\" Are you well , my Emma ?\"                                                                                                0.692648\n",
      "Emma was most sincerely interested .                                                                                       0.692648\n",
      "He stopped . Emma dared not attempt any immediate reply .                                                                  0.692648\n",
      "Emma was silenced .                                                                                                        0.692648\n",
      "Emma could not resist .                                                                                                    0.692648\n",
      "\" For shame , Emma !                                                                                                       0.692648\n",
      "Emma demurred .                                                                                                            0.692648\n",
      "This wretched note was the finale of Emma ' s breakfast .                                                                  0.692648\n",
      "Name: 3, dtype: float64\n",
      "Component 4:\n",
      "\" Mr . Knightley was there too , was he ?\"                                                                                                               0.605679\n",
      "Mr . Knightley grew angry .                                                                                                                              0.605679\n",
      "\" Why will not you write one yourself for us , Mr .                                                                                                      0.585196\n",
      "\"` Mr .                                                                                                                                                  0.585196\n",
      "Mr . Knightley might quarrel with her , but Emma could not quarrel with herself .                                                                        0.569881\n",
      "Mr . Knightley had done all in his power for Mr . Woodhouse ' s entertainment .                                                                          0.535951\n",
      "Mr . Knightley , however , shewed no triumphant happiness .                                                                                              0.512074\n",
      "Mr . Woodhouse at last was off ; but Mr . Knightley , instead of being immediately off likewise , sat down again , seemingly inclined for more chat .    0.504913\n",
      "While waiting for the carriage , she found Mr . Knightley by her side .                                                                                  0.485862\n",
      "\" In one respect , perhaps , Mr . Elton ' s manners are superior to Mr . Knightley ' s or Mr . Weston ' s .                                              0.484010\n",
      "Name: 4, dtype: float64\n"
     ]
    }
   ],
   "source": [
    "#Our SVD data reducer.  We are going to reduce the feature space from 1379 to 130.\n",
    "svd = TruncatedSVD(130)\n",
    "lsa = make_pipeline(svd, Normalizer(copy=False))\n",
    "\n",
    "# Run SVD on the training data, then project the training data.\n",
    "X_train_lsa = lsa.fit_transform(X_train_tfidf)\n",
    "\n",
    "variance_explained = svd.explained_variance_ratio_\n",
    "total_variance = variance_explained.sum()\n",
    "print(\"Percent variance captured by all components: %.2f\" % (total_variance*100))\n",
    "\n",
    "#Looking at what sorts of paragraphs our solution considers similar, \n",
    "# for the first five identified topics\n",
    "paras_by_component=pd.DataFrame(X_train_lsa,index=X_train)\n",
    "for i in range(5):\n",
    "    print('Component {}:'.format(i))\n",
    "    print(paras_by_component.loc[:,i].sort_values(ascending=False)[0:10])\n",
    "\n",
    "\n"
   ]
  },
  {
   "cell_type": "markdown",
   "metadata": {
    "run_control": {
     "frozen": false,
     "read_only": false
    }
   },
   "source": [
    "# Dimension reduction\n",
    "Okay, now we have our vectors, with one vector per paragraph.  It's time to do some dimension reduction.  We use the Singular Value Decomposition (SVD) function from sklearn rather than PCA because we don't want to mean-center our variables (and thus lose sparsity):"
   ]
  },
  {
   "cell_type": "markdown",
   "metadata": {
    "run_control": {
     "frozen": false,
     "read_only": false
    }
   },
   "source": [
    "From gazing at the most representative sample paragraphs, it appears that component 0 targets the exclamation 'Oh!', component 1 seems to largely involve critical dialogue directed at or about the main character Emma, component 2 is chapter headings, component 3 is exclamations involving 'Ah!, and component 4 involves actions by or directly related to Emma.\n",
    "\n",
    "What fun! \n",
    "\n",
    "# Sentence similarity\n",
    "\n",
    "We can also look at how similar various sentences are to one another.  For example, here are the similarity scores (as a heatmap) of the first 10 sentences in the training set:\n"
   ]
  },
  {
   "cell_type": "code",
   "execution_count": 5,
   "metadata": {
    "run_control": {
     "frozen": false,
     "read_only": false
    }
   },
   "outputs": [
    {
     "data": {
      "image/png": "[encoded data removed]",
      "text/plain": [
       "<matplotlib.figure.Figure at 0x10726a4a8>"
      ]
     },
     "metadata": {},
     "output_type": "display_data"
    },
    {
     "name": "stdout",
     "output_type": "stream",
     "text": [
      "Key:\n",
      "0 That is _court_ .\n",
      "1 \" Yes , sir , I did indeed ; and I am very much obliged by your kind solicitude about me .\"\n",
      "2 \" How much his business engrosses him already is very plain from the circumstance of his forgetting to inquire for the book you recommended .\n",
      "3 To restrain him as much as might be , by her own manners , she was immediately preparing to speak with exquisite calmness and gravity of the weather and the night ; but scarcely had she begun , scarcely had they passed the sweep - gate and joined the other carriage , than she found her subject cut up  her hand seized  her attention demanded , and Mr . Elton actually making violent love to her : availing himself of the precious opportunity , declaring sentiments which must be already well known , hoping  fearing  adoring  ready to die if she refused him ; but flattering himself that his ardent attachment and unequalled love and unexampled passion could not fail of having some effect , and in short , very much resolved on being seriously accepted as soon as possible .\n",
      "4 Emma smiled and answered \" My visit was of use to the nervous part of her complaint , I hope ; but not even I can charm away a sore throat ; it is a most severe cold indeed .\n",
      "5 A very few minutes more , however , completed the present trial .\n",
      "6 \" I am delighted to hear you speak so stoutly on the subject ,\" replied Emma , smiling ; \" but you do not mean to deny that there was a time  and not very distant either  when you gave me reason to understand that you did care about him ?\"\n",
      "7 \" Very well ; and if he had intended to give her one , he would have told her so .\"\n",
      "8 Some laughed , and answered good - humouredly .\n",
      "9 \" There appeared such a perfectly good understanding among them all \" he began rather quickly , but checking himself , added , \" however , it is impossible for me to say on what terms they really were  how it might all be behind the scenes .\n"
     ]
    }
   ],
   "source": [
    "# Compute document similarity using LSA components\n",
    "similarity = np.asarray(np.asmatrix(X_train_lsa) * np.asmatrix(X_train_lsa).T)\n",
    "#Only taking the first 10 sentences\n",
    "sim_matrix=pd.DataFrame(similarity,index=X_train).iloc[0:10,0:10]\n",
    "#Making a plot\n",
    "ax = sns.heatmap(sim_matrix,yticklabels=range(10))\n",
    "plt.show()\n",
    "\n",
    "#Generating a key for the plot.\n",
    "print('Key:')\n",
    "for i in range(10):\n",
    "    print(i,sim_matrix.index[i])\n"
   ]
  },
  {
   "cell_type": "markdown",
   "metadata": {
    "run_control": {
     "frozen": false,
     "read_only": false
    }
   },
   "source": [
    "# Semantics\n",
    "\n",
    "* BoW loses semantics - the *meaning* of the words and the sentences\n",
    "* E.g. supervised learning model 'knows' that Jane Austen tends to use the word 'lady' it doesn't know what a lady is. Nothing in our work on NLP so far that would allow a model to say whether 'queen' or 'car' is more similar to 'lady.' \n",
    "\n",
    "Whithout semantics models are tripped up by:\n",
    "* synonyms ('milady' and 'lady')\n",
    "* discards subtle differences in connocations of words, concepts, ideas, emotions \n",
    "\n",
    "Usupervised Neural Networks among other techniques solve for this:\n",
    "* Rather than us 'telling' the model how language works and what each sentence means, we can feed the model a corpus of text and have it 'learn' the rules by identifying recurring patterns within the corpus.  \n",
    "* Then we can use the trained unsupervised model to understand new sentences as well.  \n",
    "\n",
    "Restrictrions to Unsupervised Models: \n",
    "* limited by their corpus \n",
    "\n",
    "**Latent Semantic Analysis.** ?  \n",
    "\n",
    "\n",
    "# Converting sentences to vectors\n",
    "\n",
    "Consider the following sentences:\n",
    "\n",
    "1. \"The best Monty Python sketch is the one about the dead parrot,  I laughed so hard.\"\n",
    "2. \"I laugh when I think about Python's Ministry of Silly Walks sketch, it is funny, funny, funny, the best!\"\n",
    "3. \"Chocolate is the best ice cream dessert topping, with a great taste.\"\n",
    "4. \"The Lumberjack Song is the funniest Monty Python bit: I can't think of it without laughing.\"\n",
    "5. \"I would rather put strawberries on my ice cream for dessert, they have the best taste.\"\n",
    "6. \"The taste of caramel is a fantastic accompaniment to tasty mint ice cream.\"\n",
    "\n",
    "**'document'**: refers to the individual text chunks we are working with. e.g. sentences, paragraphs, or whole text files\n",
    "\n",
    "Note: a term-document matrix has words as rows and documents as columns.\n",
    "\n",
    "* without giving penalty weighting to universally popular words, popular words would be used as a significant identifier for both classes and would bring up both topics everytime the word was introduced. \n",
    " \n",
    "\n",
    "# Quantifying documents: Collection and document frequencies\n",
    "\n",
    "**'Document frequency' (DF)** counts how many sentences a word appears in.  \n",
    "**'Collection frequency' (CF)** counts how often a word appears, total, over all sentences.  \n",
    "\n",
    "# Penalizing Indiscriminate Words: Inverse Document Frequency\n",
    "\n",
    "Weighting words that occur less often (like 'sketch' and 'dessert') to be more influential than words that occur a lot (like 'best').  \n",
    "\n",
    "**Inverse Document Frequency (IDF) for each term (t)** \n",
    "1. Ratio of total documents (N) divided by Document frequency (df), 2. Take the log (base 2) of the ratio:\n",
    "\n",
    "$$idf_t=log \\dfrac N{df_t}$$\n",
    "\n",
    "\n",
    "|           |df |cf| idf |\n",
    "|-----------|---|---|\n",
    "| Monty     | 2 | 2 | 1.585 |\n",
    "| Python    | 3 | 3 | 1 |\n",
    "| sketch    | 2 | 2 | 1.585 |\n",
    "| laugh     | 3 | 3 | 1 |\n",
    "| funny     | 2 | 4 | 1.585 |\n",
    "| best      | 4 | 4 | .585 |\n",
    "| ice cream | 3 | 3 | 1 |\n",
    "| dessert   | 2 | 2 | 1.585 |\n",
    "| taste     | 3 | 4 | 1 |\n",
    "\n",
    "The idf weights tell the model to consider 'best' as less important than other terms.  \n",
    "\n",
    "# Term-frequency weights\n",
    "**Term Frequency (TF)** - how frequently a term appears within a single document. \n",
    "Create unique weights for each sentence that combines the term frequency with the inverse document frequency (idf):\n",
    "\n",
    "$$tf-idf_{t,d}=(tf_{t,d})(idf_t)$$\n",
    "\n",
    "Now the terms that appear multiple times in 1 document will be weighted more heavily than the in documents where it is used less freqently. This weight will also take into account how popular the word is. So if a popular word is used excessively it could still registers. \n",
    "\n",
    "The tf_idf score will be highest for a term that occurs a lot within a small number of sentences, and lowest for a word that occurs in most or all sentences.  \n",
    "\n",
    "Now we can represent each sentence as a vector made up of the tf-idf scores for each word:\n",
    "\n",
    "|           | 1 | 2 | 3 | \n",
    "|-----------|---|---|---|\n",
    "| Monty     | 1.585 | 0 | 0 |\n",
    "| Python    | 1 | 1 | 0 | \n",
    "| sketch    | 1.585| 1.585 | 0 | \n",
    "| laugh     | 1 | 1 | 0 | \n",
    "| funny     | 0 | 4.755 | 0 | \n",
    "| best      | .585 | .585 | .585 | \n",
    "| ice cream | 0 | 0 | 1 | \n",
    "| dessert   | 0 | 0 | 1.585 | \n",
    "| taste     | 0 | 0 | 1 |"
   ]
  },
  {
   "cell_type": "markdown",
   "metadata": {
    "run_control": {
     "frozen": false,
     "read_only": false
    }
   },
   "source": [
    "#### tf-idf vectors translate human-readable language to computer-usable numeric form.  Some information is lost in translation\n",
    "Possible decision-points include:\n",
    "\n",
    "* Which stop words to include or exclude\n",
    "* Should we use phrases ('Monty Python' instead of 'Monty' and 'Python') as terms\n",
    "* The threshold for infrequent words: Here, we excluded words that only occurred once.  In longer documents, it may be a good idea to set a higher threshold.\n",
    "* How many terms to keep.  We kept all the terms that fit our criteria (not a stop word, occurred more than once), but for bigger document collections or longer documents, this may create unfeasibly long vectors.  We may want to decide to only keep the 10,000 words with the highest collection frequency scores, for example.\n",
    "\n",
    "\n",
    "# Vector Space Model\n",
    "\n",
    "**Vector Space Model** - vector representation of the text.  \n",
    "* Can be used to compute the similarity between our sentences and a new phrase or sentence- \n",
    "* This method is often used by search engines to match a query to possible results.  \n",
    "\n",
    "Our sentences exist in an n-dimensional space where n is equal to the number of terms in our term-document matrix.  To compute the similarity of our sentences to a new sentence, we transform the new sentence into a vector and place it in the space.  We can then calculate how different the angles are for our original vectors and the new vector, and identify the vector whose angle is closest to the new vector.  \n",
    "\n",
    "**Typically this is done by calculating the cosine of the angle between the vectors.**\n",
    "* If the two vectors are identical, the angle between them will be 0° and the cosine will be 1.  \n",
    "* If the two vectors are orthogonal, with an angle of 90°, the cosine will be 0.  \n",
    "\n",
    "If we were running a search query, then, we would return sentences that were most similar to the query sentence, ordered from the highest similarity score (cosine) to the lowest.  Pretty handy!\n",
    "\n",
    "Limitations:\n",
    "* **synonyms** - since it treates each word as distinct from every other word it does not treat recognize similarity between synonyms\n",
    "* **polysemy** - treats words that have different meanings in different contexts as the same\n",
    "\n",
    "\n",
    "\n",
    "# Latent Semantic Analysis\n",
    "\n",
    "Latent Semantic Analysis solves for the synonym/polysemy issues in tf-idf by reducing our tf-idf-weighted term-document matrix into a lower-dimensional space by combining the information from multiple terms into one new row/dimension\n",
    "\n",
    "Latent Semantic Analysis/Latent Semantic Indexing - \n",
    "Applies PCA to tf-idf term-document matrix and returns clusters of terms that reflect a topic\n",
    "* each document receives a score for each topic with higher scores indicating that the document is relevant to the topic\n",
    "* documents may pertain to more than one topic\n",
    "\n",
    "LSA advantages:\n",
    "* handy for large corpuses\n",
    "* situations where you don't know what topics characterize your documents\n",
    "* useful way of creating features to be used in other models \n"
   ]
  }
 ],
 "metadata": {
  "hide_input": false,
  "kernelspec": {
   "display_name": "Python 3",
   "language": "python",
   "name": "python3"
  },
  "language_info": {
   "codemirror_mode": {
    "name": "ipython",
    "version": 3
   },
   "file_extension": ".py",
   "mimetype": "text/x-python",
   "name": "python",
   "nbconvert_exporter": "python",
   "pygments_lexer": "ipython3",
   "version": "3.6.5"
  },
  "toc": {
   "colors": {
    "hover_highlight": "#DAA520",
    "running_highlight": "#FF0000",
    "selected_highlight": "#FFD700"
   },
   "moveMenuLeft": true,
   "nav_menu": {
    "height": "142px",
    "width": "252px"
   },
   "navigate_menu": true,
   "number_sections": true,
   "sideBar": true,
   "threshold": 4,
   "toc_cell": false,
   "toc_section_display": "block",
   "toc_window_display": false
  }
 },
 "nbformat": 4,
 "nbformat_minor": 2
}
