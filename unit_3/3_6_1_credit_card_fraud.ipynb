{
 "cells": [
  {
   "cell_type": "code",
   "execution_count": 14,
   "metadata": {},
   "outputs": [],
   "source": [
    "import pandas as pd\n",
    "import numpy as np\n",
    "\n",
    "import pandas as pd\n",
    "from matplotlib import pyplot as plt\n",
    "import numpy as np\n",
    "import math\n",
    "import seaborn as sns\n",
    "import sklearn\n",
    "from sklearn import linear_model\n",
    "from sklearn import preprocessing\n",
    "\n",
    "from sklearn.model_selection import GridSearchCV\n",
    "\n",
    "%matplotlib inline\n",
    "sns.set_style('white')\n"
   ]
  },
  {
   "cell_type": "markdown",
   "metadata": {},
   "source": [
    "# 3.6.1 [Credit Card Fraud](https://courses.thinkful.com/data-201v1/project/3.6.1)\n",
    "\n",
    "Using this [credit card fraud dataset](https://www.kaggle.com/mlg-ulb/creditcardfraud/home) develop an algorithm to predict fraud. Prioritize correctly finding fraud rather than correctly labeling non-fraudulent transactions\n",
    "\n",
    "File Location: 'unit_3_data/creditcard.csv'\n",
    "\n",
    "This model requires:\n",
    "* Fraud is a rare occurance so this will require handlinf imbalanced classes\n",
    "\n",
    "* Classifier optimizing accuracy metric that focuses on minimizing the occurance of False Positives. Not concerned with minimizing False Negatives (aka better to  predicting fraud. Not concerned with "
   ]
  },
 "metadata": {
  "kernelspec": {
   "display_name": "Python 3",
   "language": "python",
   "name": "python3"
  },
  "language_info": {
   "codemirror_mode": {
    "name": "ipython",
    "version": 3
   },
   "file_extension": ".py",
   "mimetype": "text/x-python",
   "name": "python",
   "nbconvert_exporter": "python",
   "pygments_lexer": "ipython3",
   "version": "3.6.5"
  }
 },
 "nbformat": 4,
 "nbformat_minor": 2
}
