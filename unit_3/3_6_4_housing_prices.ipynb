{
 "cells": [
  {
   "cell_type": "code",
   "execution_count": 106,
   "metadata": {},
   "outputs": [],
   "source": [
    "import pandas as pd\n",
    "import numpy as np\n",
    "\n",
    "import pandas as pd\n",
    "from matplotlib import pyplot as plt\n",
    "import numpy as np\n",
    "import math\n",
    "import seaborn as sns\n",
    "import sklearn\n",
    "from sklearn import linear_model\n",
    "from sklearn import preprocessing\n",
    "\n",
    "from sklearn.linear_model import LogisticRegression, LinearRegression\n",
    "from sklearn.metrics import accuracy_score, confusion_matrix\n",
    "from sklearn.utils import resample\n",
    "from sklearn.model_selection import cross_val_score, train_test_split, GridSearchCV\n",
    "from sklearn.preprocessing import MinMaxScaler\n",
    "\n",
    "from datetime import datetime, date\n",
    "\n",
    "%matplotlib inline\n",
    "sns.set_style('white')\n"
   ]
  },
  {
   "cell_type": "markdown",
   "metadata": {},
   "source": [
    "# 3.6.4 [Housing Prices](https://courses.thinkful.com/data-201v1/project/3.6.4)\n",
    "Using this [Kaggle data](https://www.kaggle.com/anthonypino/melbourne-housing-market) create a model to predict a house's value. We want to be able to understand what creates value in a house, as though we were a real estate developer.\n",
    "\n",
    "Type: H=House, U=Unit, T=Townhouse\n",
    "Method: S - property sold; \n",
    "        SP - property sold prior; \n",
    "        PI - property passed in; \n",
    "        VB - vendor bid; \n",
    "        SA - sold after auction; \n",
    "Property Count: Number of properties that exist in the suburb.\n",
    "Rooms: Number of rooms\n",
    "SellerG: Sellers Name\n",
    "Date: Date sold\n",
    "Distance: Distance from CBD in km\n",
    "Postcode: \n",
    "Regionname: Name of regin General Region (West, North West, North, North east ...etc)\n",
    "Council Area: Governing council for the area\n",
    "\n",
    "\n"
   ]
  },
  {
   "cell_type": "code",
   "execution_count": 77,
   "metadata": {},
   "outputs": [],
   "source": [
    "df_housing = pd.DataFrame(pd.read_csv('melbourne_housing.csv'))\n",
    "\n",
    "# Remove instances where price is null\n",
    "df_housing = df_housing.dropna(axis=0, subset=['Price'])\n",
    "df_housing = df_housing[df_housing['Method']=='S']\n",
    "\n",
    "\n",
    "def convert_datetime(date):\n",
    "    date_format = '%d/%m/%Y'\n",
    "    date = datetime.strptime(date, date_format)\n",
    "    return date\n",
    "def house_type(house_type):\n",
    "    if house_type=='h':\n",
    "        return 'house'\n",
    "    elif house_type=='u':\n",
    "        return 'unit'\n",
    "    elif house_type=='t':\n",
    "        return 'townhouse'\n",
    "\n",
    "df_housing['Type'] = df_housing['Type'].apply(lambda x: house_type(x))\n",
    "df_housing['Date'] = df_housing['Date'].apply(lambda x: convert_datetime(x))\n",
    "\n",
    "df_housing['sold_dow'] = df_housing['Date'].dt.day_name()\n",
    "df_housing['sold_month'] = df_housing['Date'].dt.month_name()"
   ]
  },
  {
   "cell_type": "code",
   "execution_count": 78,
   "metadata": {},
   "outputs": [
    {
     "data": {
      "text/html": [
       "<div>\n",
       "<style scoped>\n",
       "    .dataframe tbody tr th:only-of-type {\n",
       "        vertical-align: middle;\n",
       "    }\n",
       "\n",
       "    .dataframe tbody tr th {\n",
       "        vertical-align: top;\n",
       "    }\n",
       "\n",
       "    .dataframe thead th {\n",
       "        text-align: right;\n",
       "    }\n",
       "</style>\n",
       "<table border=\"1\" class=\"dataframe\">\n",
       "  <thead>\n",
       "    <tr style=\"text-align: right;\">\n",
       "      <th></th>\n",
       "      <th>Suburb</th>\n",
       "      <th>Address</th>\n",
       "      <th>Rooms</th>\n",
       "      <th>Type</th>\n",
       "      <th>Price</th>\n",
       "      <th>Method</th>\n",
       "      <th>SellerG</th>\n",
       "      <th>Date</th>\n",
       "      <th>Postcode</th>\n",
       "      <th>Regionname</th>\n",
       "      <th>Propertycount</th>\n",
       "      <th>Distance</th>\n",
       "      <th>CouncilArea</th>\n",
       "      <th>sold_dow</th>\n",
       "      <th>sold_month</th>\n",
       "    </tr>\n",
       "  </thead>\n",
       "  <tbody>\n",
       "    <tr>\n",
       "      <th>0</th>\n",
       "      <td>Abbotsford</td>\n",
       "      <td>49 Lithgow St</td>\n",
       "      <td>3</td>\n",
       "      <td>house</td>\n",
       "      <td>1490000.0</td>\n",
       "      <td>S</td>\n",
       "      <td>Jellis</td>\n",
       "      <td>2017-04-01</td>\n",
       "      <td>3067</td>\n",
       "      <td>Northern Metropolitan</td>\n",
       "      <td>4019</td>\n",
       "      <td>3.0</td>\n",
       "      <td>Yarra City Council</td>\n",
       "      <td>Saturday</td>\n",
       "      <td>April</td>\n",
       "    </tr>\n",
       "    <tr>\n",
       "      <th>1</th>\n",
       "      <td>Abbotsford</td>\n",
       "      <td>59A Turner St</td>\n",
       "      <td>3</td>\n",
       "      <td>house</td>\n",
       "      <td>1220000.0</td>\n",
       "      <td>S</td>\n",
       "      <td>Marshall</td>\n",
       "      <td>2017-04-01</td>\n",
       "      <td>3067</td>\n",
       "      <td>Northern Metropolitan</td>\n",
       "      <td>4019</td>\n",
       "      <td>3.0</td>\n",
       "      <td>Yarra City Council</td>\n",
       "      <td>Saturday</td>\n",
       "      <td>April</td>\n",
       "    </tr>\n",
       "    <tr>\n",
       "      <th>2</th>\n",
       "      <td>Abbotsford</td>\n",
       "      <td>119B Yarra St</td>\n",
       "      <td>3</td>\n",
       "      <td>house</td>\n",
       "      <td>1420000.0</td>\n",
       "      <td>S</td>\n",
       "      <td>Nelson</td>\n",
       "      <td>2017-04-01</td>\n",
       "      <td>3067</td>\n",
       "      <td>Northern Metropolitan</td>\n",
       "      <td>4019</td>\n",
       "      <td>3.0</td>\n",
       "      <td>Yarra City Council</td>\n",
       "      <td>Saturday</td>\n",
       "      <td>April</td>\n",
       "    </tr>\n",
       "    <tr>\n",
       "      <th>3</th>\n",
       "      <td>Aberfeldie</td>\n",
       "      <td>68 Vida St</td>\n",
       "      <td>3</td>\n",
       "      <td>house</td>\n",
       "      <td>1515000.0</td>\n",
       "      <td>S</td>\n",
       "      <td>Barry</td>\n",
       "      <td>2017-04-01</td>\n",
       "      <td>3040</td>\n",
       "      <td>Western Metropolitan</td>\n",
       "      <td>1543</td>\n",
       "      <td>7.5</td>\n",
       "      <td>Moonee Valley City Council</td>\n",
       "      <td>Saturday</td>\n",
       "      <td>April</td>\n",
       "    </tr>\n",
       "    <tr>\n",
       "      <th>4</th>\n",
       "      <td>Airport West</td>\n",
       "      <td>92 Clydesdale Rd</td>\n",
       "      <td>2</td>\n",
       "      <td>house</td>\n",
       "      <td>670000.0</td>\n",
       "      <td>S</td>\n",
       "      <td>Nelson</td>\n",
       "      <td>2017-04-01</td>\n",
       "      <td>3042</td>\n",
       "      <td>Western Metropolitan</td>\n",
       "      <td>3464</td>\n",
       "      <td>10.4</td>\n",
       "      <td>Moonee Valley City Council</td>\n",
       "      <td>Saturday</td>\n",
       "      <td>April</td>\n",
       "    </tr>\n",
       "  </tbody>\n",
       "</table>\n",
       "</div>"
      ],
      "text/plain": [
       "         Suburb           Address  Rooms   Type      Price Method   SellerG  \\\n",
       "0    Abbotsford     49 Lithgow St      3  house  1490000.0      S    Jellis   \n",
       "1    Abbotsford     59A Turner St      3  house  1220000.0      S  Marshall   \n",
       "2    Abbotsford     119B Yarra St      3  house  1420000.0      S    Nelson   \n",
       "3    Aberfeldie        68 Vida St      3  house  1515000.0      S     Barry   \n",
       "4  Airport West  92 Clydesdale Rd      2  house   670000.0      S    Nelson   \n",
       "\n",
       "        Date  Postcode             Regionname  Propertycount  Distance  \\\n",
       "0 2017-04-01      3067  Northern Metropolitan           4019       3.0   \n",
       "1 2017-04-01      3067  Northern Metropolitan           4019       3.0   \n",
       "2 2017-04-01      3067  Northern Metropolitan           4019       3.0   \n",
       "3 2017-04-01      3040   Western Metropolitan           1543       7.5   \n",
       "4 2017-04-01      3042   Western Metropolitan           3464      10.4   \n",
       "\n",
       "                  CouncilArea  sold_dow sold_month  \n",
       "0          Yarra City Council  Saturday      April  \n",
       "1          Yarra City Council  Saturday      April  \n",
       "2          Yarra City Council  Saturday      April  \n",
       "3  Moonee Valley City Council  Saturday      April  \n",
       "4  Moonee Valley City Council  Saturday      April  "
      ]
     },
     "execution_count": 78,
     "metadata": {},
     "output_type": "execute_result"
    }
   ],
   "source": [
    "df_housing.head()"
   ]
  },
  {
   "cell_type": "code",
   "execution_count": 80,
   "metadata": {},
   "outputs": [
    {
     "name": "stdout",
     "output_type": "stream",
     "text": [
      "         features  unique_values\n",
      "0          Suburb            356\n",
      "1         Address          28760\n",
      "2           Rooms             14\n",
      "3            Type              3\n",
      "4           Price           3103\n",
      "5          Method              1\n",
      "6         SellerG            338\n",
      "7            Date            112\n",
      "8        Postcode            214\n",
      "9      Regionname              8\n",
      "10  Propertycount            347\n",
      "11       Distance            173\n",
      "12    CouncilArea             34\n",
      "13       sold_dow              5\n",
      "14     sold_month             12\n"
     ]
    }
   ],
   "source": [
    "#[2*a for a in x if a % 2 == 1]\n",
    "unique_values=[]\n",
    "[unique_values.append(len(df_housing[x].unique())) for x in df_housing.columns]\n",
    "feature_list=df_housing.columns\n",
    "categories=pd.DataFrame(data={'features':feature_list, 'unique_values':unique_values})\n",
    "print(categories)"
   ]
  },
  {
   "cell_type": "code",
   "execution_count": 79,
   "metadata": {},
   "outputs": [
    {
     "data": {
      "text/plain": [
       "Index(['Suburb', 'Address', 'Rooms', 'Type', 'Price', 'Method', 'SellerG',\n",
       "       'Date', 'Postcode', 'Regionname', 'Propertycount', 'Distance',\n",
       "       'CouncilArea', 'sold_dow', 'sold_month'],\n",
       "      dtype='object')"
      ]
     },
     "execution_count": 79,
     "metadata": {},
     "output_type": "execute_result"
    }
   ],
   "source": [
    "df_housing.columns"
   ]
  },
  {
   "cell_type": "code",
   "execution_count": 102,
   "metadata": {},
   "outputs": [],
   "source": [
    "feature_columns= ['Rooms', 'Type', 'sold_dow', 'sold_month', 'Regionname', 'Distance']\n",
    "X = df_housing[feature_columns]\n",
    "X = pd.get_dummies(X)\n",
    "\n",
    "scaler = MinMaxScaler()\n",
    "X_scaled = scaler.fit_transform(X)\n",
    "\n",
    "y = df_housing['Price']"
   ]
  },
  {
   "cell_type": "markdown",
   "metadata": {},
   "source": [
    "### Hypothesis for housing prices:\n",
    "* Certain regions and suburbs will have a \n"
   ]
  },
  {
   "cell_type": "code",
   "execution_count": 109,
   "metadata": {},
   "outputs": [],
   "source": [
    "from sklearn.model_selection import cross_val_score"
   ]
  },
  {
   "cell_type": "code",
   "execution_count": 115,
   "metadata": {},
   "outputs": [],
   "source": [
    "from sklearn.ensemble import RandomForestRegressor"
   ]
  },
  {
   "cell_type": "code",
   "execution_count": 132,
   "metadata": {},
   "outputs": [],
   "source": [
    "rfr = RandomForestRegressor(max_depth=4, n_estimators=10)\n",
    "rfr.fit(X_scaled,y)\n",
    "\n",
    "df_features = pd.DataFrame(data={'features':X.columns,\n",
    "                                 'feature_importance':rfr.feature_importances_}).sort_values(\n",
    "    by='feature_importance', ascending=False).reset_index(drop=True)"
   ]
  },
  {
   "cell_type": "code",
   "execution_count": 134,
   "metadata": {},
   "outputs": [
    {
     "data": {
      "text/html": [
       "<div>\n",
       "<style scoped>\n",
       "    .dataframe tbody tr th:only-of-type {\n",
       "        vertical-align: middle;\n",
       "    }\n",
       "\n",
       "    .dataframe tbody tr th {\n",
       "        vertical-align: top;\n",
       "    }\n",
       "\n",
       "    .dataframe thead th {\n",
       "        text-align: right;\n",
       "    }\n",
       "</style>\n",
       "<table border=\"1\" class=\"dataframe\">\n",
       "  <thead>\n",
       "    <tr style=\"text-align: right;\">\n",
       "      <th></th>\n",
       "      <th>features</th>\n",
       "      <th>feature_importance</th>\n",
       "    </tr>\n",
       "  </thead>\n",
       "  <tbody>\n",
       "    <tr>\n",
       "      <th>0</th>\n",
       "      <td>Type_house</td>\n",
       "      <td>0.347382</td>\n",
       "    </tr>\n",
       "    <tr>\n",
       "      <th>1</th>\n",
       "      <td>Regionname_Southern Metropolitan</td>\n",
       "      <td>0.237963</td>\n",
       "    </tr>\n",
       "    <tr>\n",
       "      <th>2</th>\n",
       "      <td>Rooms</td>\n",
       "      <td>0.180616</td>\n",
       "    </tr>\n",
       "    <tr>\n",
       "      <th>3</th>\n",
       "      <td>Distance</td>\n",
       "      <td>0.150414</td>\n",
       "    </tr>\n",
       "    <tr>\n",
       "      <th>4</th>\n",
       "      <td>Regionname_Eastern Metropolitan</td>\n",
       "      <td>0.074621</td>\n",
       "    </tr>\n",
       "    <tr>\n",
       "      <th>5</th>\n",
       "      <td>Regionname_South-Eastern Metropolitan</td>\n",
       "      <td>0.008833</td>\n",
       "    </tr>\n",
       "    <tr>\n",
       "      <th>6</th>\n",
       "      <td>Type_townhouse</td>\n",
       "      <td>0.000170</td>\n",
       "    </tr>\n",
       "  </tbody>\n",
       "</table>\n",
       "</div>"
      ],
      "text/plain": [
       "                                features  feature_importance\n",
       "0                             Type_house            0.347382\n",
       "1       Regionname_Southern Metropolitan            0.237963\n",
       "2                                  Rooms            0.180616\n",
       "3                               Distance            0.150414\n",
       "4        Regionname_Eastern Metropolitan            0.074621\n",
       "5  Regionname_South-Eastern Metropolitan            0.008833\n",
       "6                         Type_townhouse            0.000170"
      ]
     },
     "execution_count": 134,
     "metadata": {},
     "output_type": "execute_result"
    }
   ],
   "source": [
    "df_features.head(7)"
   ]
  },
  {
   "cell_type": "code",
   "execution_count": 129,
   "metadata": {},
   "outputs": [
    {
     "data": {
      "text/plain": [
       "0                               Type_house\n",
       "1         Regionname_Southern Metropolitan\n",
       "2                                    Rooms\n",
       "3                                 Distance\n",
       "4          Regionname_Eastern Metropolitan\n",
       "5    Regionname_South-Eastern Metropolitan\n",
       "Name: features, dtype: object"
      ]
     },
     "execution_count": 129,
     "metadata": {},
     "output_type": "execute_result"
    }
   ],
   "source": [
    "df_features.iloc[0:6,0]"
   ]
  },
  {
   "cell_type": "code",
   "execution_count": 130,
   "metadata": {},
   "outputs": [],
   "source": [
    "feature_columns= ['Rooms', 'Type', 'Regionname', 'Distance']\n",
    "X = df_housing[feature_columns]\n",
    "X = pd.get_dummies(X)\n",
    "\n",
    "scaler = MinMaxScaler()\n",
    "X_scaled = scaler.fit_transform(X)\n",
    "\n",
    "y = df_housing['Price']"
   ]
  },
  {
   "cell_type": "code",
   "execution_count": 131,
   "metadata": {},
   "outputs": [
    {
     "name": "stdout",
     "output_type": "stream",
     "text": [
      "[0.51242021 0.52444574 0.50948968 0.52505541 0.50339107]\n"
     ]
    }
   ],
   "source": [
    "lr = LinearRegression()\n",
    "print(cross_val_score(lr,X,y,cv=5))"
   ]
  },
  {
   "cell_type": "code",
   "execution_count": null,
   "metadata": {},
   "outputs": [],
   "source": []
  }
 ],
 "metadata": {
  "kernelspec": {
   "display_name": "Python 3",
   "language": "python",
   "name": "python3"
  },
  "language_info": {
   "codemirror_mode": {
    "name": "ipython",
    "version": 3
   },
   "file_extension": ".py",
   "mimetype": "text/x-python",
   "name": "python",
   "nbconvert_exporter": "python",
   "pygments_lexer": "ipython3",
   "version": "3.6.5"
  }
 },
 "nbformat": 4,
 "nbformat_minor": 2
}
